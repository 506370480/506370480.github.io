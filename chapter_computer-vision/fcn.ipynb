{
  "nbformat": 4,
  "nbformat_minor": 0,
  "metadata": {
    "accelerator": "GPU",
    "kernelspec": {
      "display_name": "Python 3",
      "name": "python3"
    },
    "language_info": {
      "name": "python"
    },
    "colab": {
      "name": "fcn.ipynb",
      "provenance": []
    },
    "widgets": {
      "application/vnd.jupyter.widget-state+json": {
        "295da7ac39614e92a687785619394d2d": {
          "model_module": "@jupyter-widgets/controls",
          "model_name": "HBoxModel",
          "model_module_version": "1.5.0",
          "state": {
            "_view_name": "HBoxView",
            "_dom_classes": [],
            "_model_name": "HBoxModel",
            "_view_module": "@jupyter-widgets/controls",
            "_model_module_version": "1.5.0",
            "_view_count": null,
            "_view_module_version": "1.5.0",
            "box_style": "",
            "layout": "IPY_MODEL_597c0dbe42db43d7b998c7e9e644c9b7",
            "_model_module": "@jupyter-widgets/controls",
            "children": [
              "IPY_MODEL_bccd715b773749b3b7f4fec6a4393795",
              "IPY_MODEL_63e5dc92612b4148b5949aaa8f148da8",
              "IPY_MODEL_8855f4c9d34d403c8ff4f8b1c9cc66bb"
            ]
          }
        },
        "597c0dbe42db43d7b998c7e9e644c9b7": {
          "model_module": "@jupyter-widgets/base",
          "model_name": "LayoutModel",
          "model_module_version": "1.2.0",
          "state": {
            "_view_name": "LayoutView",
            "grid_template_rows": null,
            "right": null,
            "justify_content": null,
            "_view_module": "@jupyter-widgets/base",
            "overflow": null,
            "_model_module_version": "1.2.0",
            "_view_count": null,
            "flex_flow": null,
            "width": null,
            "min_width": null,
            "border": null,
            "align_items": null,
            "bottom": null,
            "_model_module": "@jupyter-widgets/base",
            "top": null,
            "grid_column": null,
            "overflow_y": null,
            "overflow_x": null,
            "grid_auto_flow": null,
            "grid_area": null,
            "grid_template_columns": null,
            "flex": null,
            "_model_name": "LayoutModel",
            "justify_items": null,
            "grid_row": null,
            "max_height": null,
            "align_content": null,
            "visibility": null,
            "align_self": null,
            "height": null,
            "min_height": null,
            "padding": null,
            "grid_auto_rows": null,
            "grid_gap": null,
            "max_width": null,
            "order": null,
            "_view_module_version": "1.2.0",
            "grid_template_areas": null,
            "object_position": null,
            "object_fit": null,
            "grid_auto_columns": null,
            "margin": null,
            "display": null,
            "left": null
          }
        },
        "bccd715b773749b3b7f4fec6a4393795": {
          "model_module": "@jupyter-widgets/controls",
          "model_name": "HTMLModel",
          "model_module_version": "1.5.0",
          "state": {
            "_view_name": "HTMLView",
            "style": "IPY_MODEL_213b83c9eea949708558070ffec1a67d",
            "_dom_classes": [],
            "description": "",
            "_model_name": "HTMLModel",
            "placeholder": "​",
            "_view_module": "@jupyter-widgets/controls",
            "_model_module_version": "1.5.0",
            "value": "100%",
            "_view_count": null,
            "_view_module_version": "1.5.0",
            "description_tooltip": null,
            "_model_module": "@jupyter-widgets/controls",
            "layout": "IPY_MODEL_18bd0841cbf1447c87d3729ac89176f3"
          }
        },
        "63e5dc92612b4148b5949aaa8f148da8": {
          "model_module": "@jupyter-widgets/controls",
          "model_name": "FloatProgressModel",
          "model_module_version": "1.5.0",
          "state": {
            "_view_name": "ProgressView",
            "style": "IPY_MODEL_0129df0d08994cfaa5f92f88695245e4",
            "_dom_classes": [],
            "description": "",
            "_model_name": "FloatProgressModel",
            "bar_style": "success",
            "max": 46830571,
            "_view_module": "@jupyter-widgets/controls",
            "_model_module_version": "1.5.0",
            "value": 46830571,
            "_view_count": null,
            "_view_module_version": "1.5.0",
            "orientation": "horizontal",
            "min": 0,
            "description_tooltip": null,
            "_model_module": "@jupyter-widgets/controls",
            "layout": "IPY_MODEL_b8e5a992c5be4f338bf860eb3fc251ba"
          }
        },
        "8855f4c9d34d403c8ff4f8b1c9cc66bb": {
          "model_module": "@jupyter-widgets/controls",
          "model_name": "HTMLModel",
          "model_module_version": "1.5.0",
          "state": {
            "_view_name": "HTMLView",
            "style": "IPY_MODEL_85441f783a1a40d4893c39611afbc4c8",
            "_dom_classes": [],
            "description": "",
            "_model_name": "HTMLModel",
            "placeholder": "​",
            "_view_module": "@jupyter-widgets/controls",
            "_model_module_version": "1.5.0",
            "value": " 44.7M/44.7M [00:00&lt;00:00, 103MB/s]",
            "_view_count": null,
            "_view_module_version": "1.5.0",
            "description_tooltip": null,
            "_model_module": "@jupyter-widgets/controls",
            "layout": "IPY_MODEL_3dc2fa19ac8c4de1a73242899c3626eb"
          }
        },
        "213b83c9eea949708558070ffec1a67d": {
          "model_module": "@jupyter-widgets/controls",
          "model_name": "DescriptionStyleModel",
          "model_module_version": "1.5.0",
          "state": {
            "_view_name": "StyleView",
            "_model_name": "DescriptionStyleModel",
            "description_width": "",
            "_view_module": "@jupyter-widgets/base",
            "_model_module_version": "1.5.0",
            "_view_count": null,
            "_view_module_version": "1.2.0",
            "_model_module": "@jupyter-widgets/controls"
          }
        },
        "18bd0841cbf1447c87d3729ac89176f3": {
          "model_module": "@jupyter-widgets/base",
          "model_name": "LayoutModel",
          "model_module_version": "1.2.0",
          "state": {
            "_view_name": "LayoutView",
            "grid_template_rows": null,
            "right": null,
            "justify_content": null,
            "_view_module": "@jupyter-widgets/base",
            "overflow": null,
            "_model_module_version": "1.2.0",
            "_view_count": null,
            "flex_flow": null,
            "width": null,
            "min_width": null,
            "border": null,
            "align_items": null,
            "bottom": null,
            "_model_module": "@jupyter-widgets/base",
            "top": null,
            "grid_column": null,
            "overflow_y": null,
            "overflow_x": null,
            "grid_auto_flow": null,
            "grid_area": null,
            "grid_template_columns": null,
            "flex": null,
            "_model_name": "LayoutModel",
            "justify_items": null,
            "grid_row": null,
            "max_height": null,
            "align_content": null,
            "visibility": null,
            "align_self": null,
            "height": null,
            "min_height": null,
            "padding": null,
            "grid_auto_rows": null,
            "grid_gap": null,
            "max_width": null,
            "order": null,
            "_view_module_version": "1.2.0",
            "grid_template_areas": null,
            "object_position": null,
            "object_fit": null,
            "grid_auto_columns": null,
            "margin": null,
            "display": null,
            "left": null
          }
        },
        "0129df0d08994cfaa5f92f88695245e4": {
          "model_module": "@jupyter-widgets/controls",
          "model_name": "ProgressStyleModel",
          "model_module_version": "1.5.0",
          "state": {
            "_view_name": "StyleView",
            "_model_name": "ProgressStyleModel",
            "description_width": "",
            "_view_module": "@jupyter-widgets/base",
            "_model_module_version": "1.5.0",
            "_view_count": null,
            "_view_module_version": "1.2.0",
            "bar_color": null,
            "_model_module": "@jupyter-widgets/controls"
          }
        },
        "b8e5a992c5be4f338bf860eb3fc251ba": {
          "model_module": "@jupyter-widgets/base",
          "model_name": "LayoutModel",
          "model_module_version": "1.2.0",
          "state": {
            "_view_name": "LayoutView",
            "grid_template_rows": null,
            "right": null,
            "justify_content": null,
            "_view_module": "@jupyter-widgets/base",
            "overflow": null,
            "_model_module_version": "1.2.0",
            "_view_count": null,
            "flex_flow": null,
            "width": null,
            "min_width": null,
            "border": null,
            "align_items": null,
            "bottom": null,
            "_model_module": "@jupyter-widgets/base",
            "top": null,
            "grid_column": null,
            "overflow_y": null,
            "overflow_x": null,
            "grid_auto_flow": null,
            "grid_area": null,
            "grid_template_columns": null,
            "flex": null,
            "_model_name": "LayoutModel",
            "justify_items": null,
            "grid_row": null,
            "max_height": null,
            "align_content": null,
            "visibility": null,
            "align_self": null,
            "height": null,
            "min_height": null,
            "padding": null,
            "grid_auto_rows": null,
            "grid_gap": null,
            "max_width": null,
            "order": null,
            "_view_module_version": "1.2.0",
            "grid_template_areas": null,
            "object_position": null,
            "object_fit": null,
            "grid_auto_columns": null,
            "margin": null,
            "display": null,
            "left": null
          }
        },
        "85441f783a1a40d4893c39611afbc4c8": {
          "model_module": "@jupyter-widgets/controls",
          "model_name": "DescriptionStyleModel",
          "model_module_version": "1.5.0",
          "state": {
            "_view_name": "StyleView",
            "_model_name": "DescriptionStyleModel",
            "description_width": "",
            "_view_module": "@jupyter-widgets/base",
            "_model_module_version": "1.5.0",
            "_view_count": null,
            "_view_module_version": "1.2.0",
            "_model_module": "@jupyter-widgets/controls"
          }
        },
        "3dc2fa19ac8c4de1a73242899c3626eb": {
          "model_module": "@jupyter-widgets/base",
          "model_name": "LayoutModel",
          "model_module_version": "1.2.0",
          "state": {
            "_view_name": "LayoutView",
            "grid_template_rows": null,
            "right": null,
            "justify_content": null,
            "_view_module": "@jupyter-widgets/base",
            "overflow": null,
            "_model_module_version": "1.2.0",
            "_view_count": null,
            "flex_flow": null,
            "width": null,
            "min_width": null,
            "border": null,
            "align_items": null,
            "bottom": null,
            "_model_module": "@jupyter-widgets/base",
            "top": null,
            "grid_column": null,
            "overflow_y": null,
            "overflow_x": null,
            "grid_auto_flow": null,
            "grid_area": null,
            "grid_template_columns": null,
            "flex": null,
            "_model_name": "LayoutModel",
            "justify_items": null,
            "grid_row": null,
            "max_height": null,
            "align_content": null,
            "visibility": null,
            "align_self": null,
            "height": null,
            "min_height": null,
            "padding": null,
            "grid_auto_rows": null,
            "grid_gap": null,
            "max_width": null,
            "order": null,
            "_view_module_version": "1.2.0",
            "grid_template_areas": null,
            "object_position": null,
            "object_fit": null,
            "grid_auto_columns": null,
            "margin": null,
            "display": null,
            "left": null
          }
        }
      }
    }
  },
  "cells": [
    {
      "cell_type": "markdown",
      "metadata": {
        "id": "FFMFtMGvyQ39"
      },
      "source": [
        "The following additional libraries are needed to run this\n",
        "notebook. Note that running on Colab is experimental, please report a Github\n",
        "issue if you have any problem."
      ]
    },
    {
      "cell_type": "code",
      "metadata": {
        "id": "hAO6D3TIyQ4G",
        "outputId": "1387498b-f39e-4065-d610-6baeeef3000e",
        "colab": {
          "base_uri": "https://localhost:8080/"
        }
      },
      "source": [
        "!pip install git+https://github.com/d2l-ai/d2l-zh@release  # installing d2l\n"
      ],
      "execution_count": 2,
      "outputs": [
        {
          "output_type": "stream",
          "name": "stdout",
          "text": [
            "Collecting git+https://github.com/d2l-ai/d2l-zh@release\n",
            "  Cloning https://github.com/d2l-ai/d2l-zh (to revision release) to /tmp/pip-req-build-pxvju_u2\n",
            "  Running command git clone -q https://github.com/d2l-ai/d2l-zh /tmp/pip-req-build-pxvju_u2\n",
            "  Running command git checkout -b release --track origin/release\n",
            "  Switched to a new branch 'release'\n",
            "  Branch 'release' set up to track remote branch 'release' from 'origin'.\n",
            "  Running command git submodule update --init --recursive -q\n",
            "Requirement already satisfied: jupyter in /usr/local/lib/python3.7/dist-packages (from d2l==2.0.0a2) (1.0.0)\n",
            "Requirement already satisfied: numpy in /usr/local/lib/python3.7/dist-packages (from d2l==2.0.0a2) (1.19.5)\n",
            "Requirement already satisfied: matplotlib in /usr/local/lib/python3.7/dist-packages (from d2l==2.0.0a2) (3.2.2)\n",
            "Requirement already satisfied: requests in /usr/local/lib/python3.7/dist-packages (from d2l==2.0.0a2) (2.23.0)\n",
            "Requirement already satisfied: pandas in /usr/local/lib/python3.7/dist-packages (from d2l==2.0.0a2) (1.1.5)\n",
            "Requirement already satisfied: notebook in /usr/local/lib/python3.7/dist-packages (from jupyter->d2l==2.0.0a2) (5.3.1)\n",
            "Requirement already satisfied: ipywidgets in /usr/local/lib/python3.7/dist-packages (from jupyter->d2l==2.0.0a2) (7.6.5)\n",
            "Requirement already satisfied: qtconsole in /usr/local/lib/python3.7/dist-packages (from jupyter->d2l==2.0.0a2) (5.1.1)\n",
            "Requirement already satisfied: nbconvert in /usr/local/lib/python3.7/dist-packages (from jupyter->d2l==2.0.0a2) (5.6.1)\n",
            "Requirement already satisfied: jupyter-console in /usr/local/lib/python3.7/dist-packages (from jupyter->d2l==2.0.0a2) (5.2.0)\n",
            "Requirement already satisfied: ipykernel in /usr/local/lib/python3.7/dist-packages (from jupyter->d2l==2.0.0a2) (4.10.1)\n",
            "Requirement already satisfied: jupyter-client in /usr/local/lib/python3.7/dist-packages (from ipykernel->jupyter->d2l==2.0.0a2) (5.3.5)\n",
            "Requirement already satisfied: traitlets>=4.1.0 in /usr/local/lib/python3.7/dist-packages (from ipykernel->jupyter->d2l==2.0.0a2) (5.1.1)\n",
            "Requirement already satisfied: ipython>=4.0.0 in /usr/local/lib/python3.7/dist-packages (from ipykernel->jupyter->d2l==2.0.0a2) (5.5.0)\n",
            "Requirement already satisfied: tornado>=4.0 in /usr/local/lib/python3.7/dist-packages (from ipykernel->jupyter->d2l==2.0.0a2) (5.1.1)\n",
            "Requirement already satisfied: pygments in /usr/local/lib/python3.7/dist-packages (from ipython>=4.0.0->ipykernel->jupyter->d2l==2.0.0a2) (2.6.1)\n",
            "Requirement already satisfied: prompt-toolkit<2.0.0,>=1.0.4 in /usr/local/lib/python3.7/dist-packages (from ipython>=4.0.0->ipykernel->jupyter->d2l==2.0.0a2) (1.0.18)\n",
            "Requirement already satisfied: pickleshare in /usr/local/lib/python3.7/dist-packages (from ipython>=4.0.0->ipykernel->jupyter->d2l==2.0.0a2) (0.7.5)\n",
            "Requirement already satisfied: pexpect in /usr/local/lib/python3.7/dist-packages (from ipython>=4.0.0->ipykernel->jupyter->d2l==2.0.0a2) (4.8.0)\n",
            "Requirement already satisfied: setuptools>=18.5 in /usr/local/lib/python3.7/dist-packages (from ipython>=4.0.0->ipykernel->jupyter->d2l==2.0.0a2) (57.4.0)\n",
            "Requirement already satisfied: simplegeneric>0.8 in /usr/local/lib/python3.7/dist-packages (from ipython>=4.0.0->ipykernel->jupyter->d2l==2.0.0a2) (0.8.1)\n",
            "Requirement already satisfied: decorator in /usr/local/lib/python3.7/dist-packages (from ipython>=4.0.0->ipykernel->jupyter->d2l==2.0.0a2) (4.4.2)\n",
            "Requirement already satisfied: six>=1.9.0 in /usr/local/lib/python3.7/dist-packages (from prompt-toolkit<2.0.0,>=1.0.4->ipython>=4.0.0->ipykernel->jupyter->d2l==2.0.0a2) (1.15.0)\n",
            "Requirement already satisfied: wcwidth in /usr/local/lib/python3.7/dist-packages (from prompt-toolkit<2.0.0,>=1.0.4->ipython>=4.0.0->ipykernel->jupyter->d2l==2.0.0a2) (0.2.5)\n",
            "Requirement already satisfied: widgetsnbextension~=3.5.0 in /usr/local/lib/python3.7/dist-packages (from ipywidgets->jupyter->d2l==2.0.0a2) (3.5.2)\n",
            "Requirement already satisfied: nbformat>=4.2.0 in /usr/local/lib/python3.7/dist-packages (from ipywidgets->jupyter->d2l==2.0.0a2) (5.1.3)\n",
            "Requirement already satisfied: ipython-genutils~=0.2.0 in /usr/local/lib/python3.7/dist-packages (from ipywidgets->jupyter->d2l==2.0.0a2) (0.2.0)\n",
            "Requirement already satisfied: jupyterlab-widgets>=1.0.0 in /usr/local/lib/python3.7/dist-packages (from ipywidgets->jupyter->d2l==2.0.0a2) (1.0.2)\n",
            "Requirement already satisfied: jupyter-core in /usr/local/lib/python3.7/dist-packages (from nbformat>=4.2.0->ipywidgets->jupyter->d2l==2.0.0a2) (4.9.1)\n",
            "Requirement already satisfied: jsonschema!=2.5.0,>=2.4 in /usr/local/lib/python3.7/dist-packages (from nbformat>=4.2.0->ipywidgets->jupyter->d2l==2.0.0a2) (2.6.0)\n",
            "Requirement already satisfied: jinja2 in /usr/local/lib/python3.7/dist-packages (from notebook->jupyter->d2l==2.0.0a2) (2.11.3)\n",
            "Requirement already satisfied: terminado>=0.8.1 in /usr/local/lib/python3.7/dist-packages (from notebook->jupyter->d2l==2.0.0a2) (0.12.1)\n",
            "Requirement already satisfied: Send2Trash in /usr/local/lib/python3.7/dist-packages (from notebook->jupyter->d2l==2.0.0a2) (1.8.0)\n",
            "Requirement already satisfied: pyzmq>=13 in /usr/local/lib/python3.7/dist-packages (from jupyter-client->ipykernel->jupyter->d2l==2.0.0a2) (22.3.0)\n",
            "Requirement already satisfied: python-dateutil>=2.1 in /usr/local/lib/python3.7/dist-packages (from jupyter-client->ipykernel->jupyter->d2l==2.0.0a2) (2.8.2)\n",
            "Requirement already satisfied: ptyprocess in /usr/local/lib/python3.7/dist-packages (from terminado>=0.8.1->notebook->jupyter->d2l==2.0.0a2) (0.7.0)\n",
            "Requirement already satisfied: MarkupSafe>=0.23 in /usr/local/lib/python3.7/dist-packages (from jinja2->notebook->jupyter->d2l==2.0.0a2) (2.0.1)\n",
            "Requirement already satisfied: pyparsing!=2.0.4,!=2.1.2,!=2.1.6,>=2.0.1 in /usr/local/lib/python3.7/dist-packages (from matplotlib->d2l==2.0.0a2) (2.4.7)\n",
            "Requirement already satisfied: cycler>=0.10 in /usr/local/lib/python3.7/dist-packages (from matplotlib->d2l==2.0.0a2) (0.11.0)\n",
            "Requirement already satisfied: kiwisolver>=1.0.1 in /usr/local/lib/python3.7/dist-packages (from matplotlib->d2l==2.0.0a2) (1.3.2)\n",
            "Requirement already satisfied: mistune<2,>=0.8.1 in /usr/local/lib/python3.7/dist-packages (from nbconvert->jupyter->d2l==2.0.0a2) (0.8.4)\n",
            "Requirement already satisfied: testpath in /usr/local/lib/python3.7/dist-packages (from nbconvert->jupyter->d2l==2.0.0a2) (0.5.0)\n",
            "Requirement already satisfied: bleach in /usr/local/lib/python3.7/dist-packages (from nbconvert->jupyter->d2l==2.0.0a2) (4.1.0)\n",
            "Requirement already satisfied: pandocfilters>=1.4.1 in /usr/local/lib/python3.7/dist-packages (from nbconvert->jupyter->d2l==2.0.0a2) (1.5.0)\n",
            "Requirement already satisfied: entrypoints>=0.2.2 in /usr/local/lib/python3.7/dist-packages (from nbconvert->jupyter->d2l==2.0.0a2) (0.3)\n",
            "Requirement already satisfied: defusedxml in /usr/local/lib/python3.7/dist-packages (from nbconvert->jupyter->d2l==2.0.0a2) (0.7.1)\n",
            "Requirement already satisfied: webencodings in /usr/local/lib/python3.7/dist-packages (from bleach->nbconvert->jupyter->d2l==2.0.0a2) (0.5.1)\n",
            "Requirement already satisfied: packaging in /usr/local/lib/python3.7/dist-packages (from bleach->nbconvert->jupyter->d2l==2.0.0a2) (21.2)\n",
            "Requirement already satisfied: pytz>=2017.2 in /usr/local/lib/python3.7/dist-packages (from pandas->d2l==2.0.0a2) (2018.9)\n",
            "Requirement already satisfied: qtpy in /usr/local/lib/python3.7/dist-packages (from qtconsole->jupyter->d2l==2.0.0a2) (1.11.2)\n",
            "Requirement already satisfied: urllib3!=1.25.0,!=1.25.1,<1.26,>=1.21.1 in /usr/local/lib/python3.7/dist-packages (from requests->d2l==2.0.0a2) (1.24.3)\n",
            "Requirement already satisfied: idna<3,>=2.5 in /usr/local/lib/python3.7/dist-packages (from requests->d2l==2.0.0a2) (2.10)\n",
            "Requirement already satisfied: chardet<4,>=3.0.2 in /usr/local/lib/python3.7/dist-packages (from requests->d2l==2.0.0a2) (3.0.4)\n",
            "Requirement already satisfied: certifi>=2017.4.17 in /usr/local/lib/python3.7/dist-packages (from requests->d2l==2.0.0a2) (2021.10.8)\n",
            "Building wheels for collected packages: d2l\n",
            "  Building wheel for d2l (setup.py) ... \u001b[?25l\u001b[?25hdone\n",
            "  Created wheel for d2l: filename=d2l-2.0.0a2-py3-none-any.whl size=81714 sha256=c3466b61b4aac8162441176c839be2424e03ab165d06aa75c92343594ff3f246\n",
            "  Stored in directory: /tmp/pip-ephem-wheel-cache-4rmxsa6v/wheels/73/f4/42/d2b85ca46d85a241d6aa57c1c24027de2d2258202bb67945f9\n",
            "Successfully built d2l\n",
            "Installing collected packages: d2l\n",
            "Successfully installed d2l-2.0.0a2\n"
          ]
        }
      ]
    },
    {
      "cell_type": "markdown",
      "metadata": {
        "origin_pos": 0,
        "id": "fY1lvNDHyQ4I"
      },
      "source": [
        "# 全卷积网络\n",
        ":label:`sec_fcn`\n",
        "\n",
        "如 :numref:`sec_semantic_segmentation` 中所介绍的那样，语义分割能对图像中的每个像素分类。\n",
        "全卷积网络 (fully convolutional network，FCN) 采用卷积神经网络实现了从图像像素到像素类别的变换 :cite:`Long.Shelhamer.Darrell.2015`。\n",
        "与我们之前在图像分类或目标检测部分介绍的卷积神经网络不同，全卷积网络将中间层特征图的高和宽变换回输入图像的尺寸：这是通过 :numref:`sec_transposed_conv` 中引入的*转置卷积*（transposed convolution）层实现的。\n",
        "因此，输出的类别预测与输入图像在像素级别上具有一一对应关系：给定空间维上的位置，通道维的输出即该位置对应像素的类别预测。\n"
      ]
    },
    {
      "cell_type": "code",
      "metadata": {
        "origin_pos": 2,
        "tab": [
          "pytorch"
        ],
        "id": "aIX40LRByQ4K"
      },
      "source": [
        "%matplotlib inline\n",
        "import torch\n",
        "import torchvision\n",
        "from torch import nn\n",
        "from torch.nn import functional as F\n",
        "from d2l import torch as d2l\n"
      ],
      "execution_count": 3,
      "outputs": []
    },
    {
      "cell_type": "markdown",
      "metadata": {
        "origin_pos": 3,
        "id": "HWFTjY79yQ4L"
      },
      "source": [
        "## 构造模型\n",
        "\n",
        "下面我们了解一下全卷积网络模型最基本的设计。\n",
        "如 :numref:`fig_fcn` 所示，全卷积网络先使用卷积神经网络抽取图像特征，然后通过 $1\\times 1$ 卷积层将通道数变换为类别个数，最后在 :numref:`sec_transposed_conv` 中通过转置卷积层将特征图的高和宽变换为输入图像的尺寸。\n",
        "因此，模型输出与输入图像的高和宽相同，且最终输出的通道包含了该空间位置像素的类别预测。 \n",
        "\n",
        "![全卷积网络](http://d2l.ai/_images/fcn.svg)\n",
        ":label:`fig_fcn`\n",
        "\n",
        "下面，我们[**使用在ImageNet数据集上预训练的ResNet-18模型来提取图像特征**]，并将该网络实例记为`pretrained_net`。\n",
        "该模型的最后几层包括全局平均汇聚层和全连接层，然而全卷积网络中不需要它们。\n"
      ]
    },
    {
      "cell_type": "code",
      "metadata": {
        "origin_pos": 5,
        "tab": [
          "pytorch"
        ],
        "id": "YrHaicDxyQ4M",
        "outputId": "9255e592-ef24-47f2-f589-eb1d25768d7e",
        "colab": {
          "base_uri": "https://localhost:8080/",
          "height": 435,
          "referenced_widgets": [
            "295da7ac39614e92a687785619394d2d",
            "597c0dbe42db43d7b998c7e9e644c9b7",
            "bccd715b773749b3b7f4fec6a4393795",
            "63e5dc92612b4148b5949aaa8f148da8",
            "8855f4c9d34d403c8ff4f8b1c9cc66bb",
            "213b83c9eea949708558070ffec1a67d",
            "18bd0841cbf1447c87d3729ac89176f3",
            "0129df0d08994cfaa5f92f88695245e4",
            "b8e5a992c5be4f338bf860eb3fc251ba",
            "85441f783a1a40d4893c39611afbc4c8",
            "3dc2fa19ac8c4de1a73242899c3626eb"
          ]
        }
      },
      "source": [
        "pretrained_net = torchvision.models.resnet18(pretrained=True)\n",
        "list(pretrained_net.children())[-3:]"
      ],
      "execution_count": 4,
      "outputs": [
        {
          "output_type": "stream",
          "name": "stderr",
          "text": [
            "Downloading: \"https://download.pytorch.org/models/resnet18-f37072fd.pth\" to /root/.cache/torch/hub/checkpoints/resnet18-f37072fd.pth\n"
          ]
        },
        {
          "output_type": "display_data",
          "data": {
            "application/vnd.jupyter.widget-view+json": {
              "model_id": "295da7ac39614e92a687785619394d2d",
              "version_minor": 0,
              "version_major": 2
            },
            "text/plain": [
              "  0%|          | 0.00/44.7M [00:00<?, ?B/s]"
            ]
          },
          "metadata": {}
        },
        {
          "output_type": "execute_result",
          "data": {
            "text/plain": [
              "[Sequential(\n",
              "   (0): BasicBlock(\n",
              "     (conv1): Conv2d(256, 512, kernel_size=(3, 3), stride=(2, 2), padding=(1, 1), bias=False)\n",
              "     (bn1): BatchNorm2d(512, eps=1e-05, momentum=0.1, affine=True, track_running_stats=True)\n",
              "     (relu): ReLU(inplace=True)\n",
              "     (conv2): Conv2d(512, 512, kernel_size=(3, 3), stride=(1, 1), padding=(1, 1), bias=False)\n",
              "     (bn2): BatchNorm2d(512, eps=1e-05, momentum=0.1, affine=True, track_running_stats=True)\n",
              "     (downsample): Sequential(\n",
              "       (0): Conv2d(256, 512, kernel_size=(1, 1), stride=(2, 2), bias=False)\n",
              "       (1): BatchNorm2d(512, eps=1e-05, momentum=0.1, affine=True, track_running_stats=True)\n",
              "     )\n",
              "   )\n",
              "   (1): BasicBlock(\n",
              "     (conv1): Conv2d(512, 512, kernel_size=(3, 3), stride=(1, 1), padding=(1, 1), bias=False)\n",
              "     (bn1): BatchNorm2d(512, eps=1e-05, momentum=0.1, affine=True, track_running_stats=True)\n",
              "     (relu): ReLU(inplace=True)\n",
              "     (conv2): Conv2d(512, 512, kernel_size=(3, 3), stride=(1, 1), padding=(1, 1), bias=False)\n",
              "     (bn2): BatchNorm2d(512, eps=1e-05, momentum=0.1, affine=True, track_running_stats=True)\n",
              "   )\n",
              " ),\n",
              " AdaptiveAvgPool2d(output_size=(1, 1)),\n",
              " Linear(in_features=512, out_features=1000, bias=True)]"
            ]
          },
          "metadata": {},
          "execution_count": 4
        }
      ]
    },
    {
      "cell_type": "markdown",
      "metadata": {
        "origin_pos": 6,
        "id": "Up9idCW8yQ4P"
      },
      "source": [
        "接下来，我们[**创建一个全卷积网络实例`net`**]。\n",
        "它复制了Resnet-18中大部分的预训练层，但除去最终的全局平均汇聚层和最接近输出的全连接层。\n"
      ]
    },
    {
      "cell_type": "code",
      "metadata": {
        "origin_pos": 8,
        "tab": [
          "pytorch"
        ],
        "id": "DtgGGvJWyQ4Q"
      },
      "source": [
        "net = nn.Sequential(*list(pretrained_net.children())[:-2])"
      ],
      "execution_count": 5,
      "outputs": []
    },
    {
      "cell_type": "markdown",
      "metadata": {
        "origin_pos": 9,
        "id": "C8sT9HbpyQ4S"
      },
      "source": [
        "给定高度和宽度分别为320和480的输入，`net`的前向计算将输入的高和宽减小至原来的$1/32$，即10和15。\n"
      ]
    },
    {
      "cell_type": "code",
      "metadata": {
        "origin_pos": 11,
        "tab": [
          "pytorch"
        ],
        "id": "CNrw9t8CyQ4U",
        "outputId": "56500c08-45b4-4b20-e0c7-da868dc1cb03",
        "colab": {
          "base_uri": "https://localhost:8080/"
        }
      },
      "source": [
        "X = torch.rand(size=(1, 3, 320, 480))\n",
        "net(X).shape"
      ],
      "execution_count": 6,
      "outputs": [
        {
          "output_type": "stream",
          "name": "stderr",
          "text": [
            "/usr/local/lib/python3.7/dist-packages/torch/nn/functional.py:718: UserWarning: Named tensors and all their associated APIs are an experimental feature and subject to change. Please do not use them for anything important until they are released as stable. (Triggered internally at  /pytorch/c10/core/TensorImpl.h:1156.)\n",
            "  return torch.max_pool2d(input, kernel_size, stride, padding, dilation, ceil_mode)\n"
          ]
        },
        {
          "output_type": "execute_result",
          "data": {
            "text/plain": [
              "torch.Size([1, 512, 10, 15])"
            ]
          },
          "metadata": {},
          "execution_count": 6
        }
      ]
    },
    {
      "cell_type": "markdown",
      "metadata": {
        "origin_pos": 12,
        "id": "jmILDSP0yQ4V"
      },
      "source": [
        "接下来，我们[**使用$1\\times1$卷积层将输出通道数转换为Pascal VOC2012数据集的类数（21类）。**]\n",
        "最后，我们需要(**将要素地图的高度和宽度增加32倍**)，从而将其变回输入图像的高和宽。\n",
        "回想一下 :numref:`sec_padding`中卷积层输出形状的计算方法：\n",
        "由于$(320-64+16\\times2+32)/32=10$且$(480-64+16\\times2+32)/32=15$，我们构造一个步幅为$32$的转置卷积层，并将卷积核的高和宽设为$64$，填充为$16$。\n",
        "我们可以看到如果步幅为$s$，填充为$s/2$（假设$s/2$是整数）且卷积核的高和宽为$2s$，转置卷积核会将输入的高和宽分别放大$s$倍。\n"
      ]
    },
    {
      "cell_type": "code",
      "metadata": {
        "origin_pos": 14,
        "tab": [
          "pytorch"
        ],
        "id": "mCu-AoxhyQ4W"
      },
      "source": [
        "num_classes = 21\n",
        "net.add_module('final_conv', nn.Conv2d(512, num_classes, kernel_size=1))\n",
        "net.add_module('transpose_conv', nn.ConvTranspose2d(num_classes, num_classes,\n",
        "                                    kernel_size=64, padding=16, stride=32))"
      ],
      "execution_count": 7,
      "outputs": []
    },
    {
      "cell_type": "markdown",
      "metadata": {
        "origin_pos": 15,
        "id": "FMBhBFqnyQ4X"
      },
      "source": [
        "## [**初始化转置卷积层**]\n",
        "\n",
        "在图像处理中，我们有时需要将图像放大，即*上采样*(upsampling)。\n",
        "*双线性插值*（bilinear interpolation）\n",
        "是常用的上采样方法之一，它也经常用于初始化转置卷积层。\n",
        "\n",
        "为了解释双线性插值，假设给定输入图像，我们想要计算上采样输出图像上的每个像素。\n",
        "首先，将输出图像的坐标$(x,y)$映射到输入图像的坐标$(x',y')$上。\n",
        "例如，根据输入与输出的尺寸之比来映射。\n",
        "请注意，映射后的$x′$和$y′$是实数。\n",
        "然后，在输入图像上找到离坐标$(x',y')$最近的4个像素。\n",
        "最后，输出图像在坐标$(x,y)$上的像素依据输入图像上这4个像素及其与$(x',y')$的相对距离来计算。\n",
        "\n",
        "双线性插值的上采样可以通过转置卷积层实现，内核由以下`bilinear_kernel`函数构造。\n",
        "限于篇幅，我们只给出`bilinear_kernel`函数的实现，不讨论算法的原理。\n"
      ]
    },
    {
      "cell_type": "code",
      "metadata": {
        "origin_pos": 17,
        "tab": [
          "pytorch"
        ],
        "id": "o94nMOb5yQ4X"
      },
      "source": [
        "def bilinear_kernel(in_channels, out_channels, kernel_size):\n",
        "    factor = (kernel_size + 1) // 2\n",
        "    if kernel_size % 2 == 1:\n",
        "        center = factor - 1\n",
        "    else:\n",
        "        center = factor - 0.5\n",
        "    og = (torch.arange(kernel_size).reshape(-1, 1),\n",
        "          torch.arange(kernel_size).reshape(1, -1))\n",
        "    filt = (1 - torch.abs(og[0] - center) / factor) * \\\n",
        "           (1 - torch.abs(og[1] - center) / factor)\n",
        "    weight = torch.zeros((in_channels, out_channels,\n",
        "                          kernel_size, kernel_size))\n",
        "    weight[range(in_channels), range(out_channels), :, :] = filt\n",
        "    return weight"
      ],
      "execution_count": 8,
      "outputs": []
    },
    {
      "cell_type": "markdown",
      "metadata": {
        "origin_pos": 18,
        "id": "1pRbhl1-yQ4Z"
      },
      "source": [
        "让我们用[**双线性插值的上采样实验**]它由转置卷积层实现。\n",
        "我们构造一个将输入的高和宽放大2倍的转置卷积层，并将其卷积核用`bilinear_kernel`函数初始化。\n"
      ]
    },
    {
      "cell_type": "code",
      "metadata": {
        "origin_pos": 20,
        "tab": [
          "pytorch"
        ],
        "id": "Awrh6xf_yQ4Z"
      },
      "source": [
        "conv_trans = nn.ConvTranspose2d(3, 3, kernel_size=4, padding=1, stride=2,\n",
        "                                bias=False)\n",
        "conv_trans.weight.data.copy_(bilinear_kernel(3, 3, 4));"
      ],
      "execution_count": 9,
      "outputs": []
    },
    {
      "cell_type": "markdown",
      "metadata": {
        "origin_pos": 21,
        "id": "of8rkyycyQ4a"
      },
      "source": [
        "读取图像`X`，将上采样的结果记作`Y`。为了打印图像，我们需要调整通道维的位置。\n"
      ]
    },
    {
      "cell_type": "code",
      "metadata": {
        "origin_pos": 23,
        "tab": [
          "pytorch"
        ],
        "id": "XNkh-DXgyQ4a",
        "outputId": "a66443cc-91c9-491a-c34d-ab3f7bbee705",
        "colab": {
          "base_uri": "https://localhost:8080/",
          "height": 334
        }
      },
      "source": [
        "img = torchvision.transforms.ToTensor()(d2l.Image.open('../img/catdog.jpg'))\n",
        "X = img.unsqueeze(0)\n",
        "Y = conv_trans(X)\n",
        "out_img = Y[0].permute(1, 2, 0).detach()"
      ],
      "execution_count": 10,
      "outputs": [
        {
          "output_type": "error",
          "ename": "FileNotFoundError",
          "evalue": "ignored",
          "traceback": [
            "\u001b[0;31m---------------------------------------------------------------------------\u001b[0m",
            "\u001b[0;31mFileNotFoundError\u001b[0m                         Traceback (most recent call last)",
            "\u001b[0;32m<ipython-input-10-e09628dbd60e>\u001b[0m in \u001b[0;36m<module>\u001b[0;34m()\u001b[0m\n\u001b[0;32m----> 1\u001b[0;31m \u001b[0mimg\u001b[0m \u001b[0;34m=\u001b[0m \u001b[0mtorchvision\u001b[0m\u001b[0;34m.\u001b[0m\u001b[0mtransforms\u001b[0m\u001b[0;34m.\u001b[0m\u001b[0mToTensor\u001b[0m\u001b[0;34m(\u001b[0m\u001b[0;34m)\u001b[0m\u001b[0;34m(\u001b[0m\u001b[0md2l\u001b[0m\u001b[0;34m.\u001b[0m\u001b[0mImage\u001b[0m\u001b[0;34m.\u001b[0m\u001b[0mopen\u001b[0m\u001b[0;34m(\u001b[0m\u001b[0;34m'../img/catdog.jpg'\u001b[0m\u001b[0;34m)\u001b[0m\u001b[0;34m)\u001b[0m\u001b[0;34m\u001b[0m\u001b[0;34m\u001b[0m\u001b[0m\n\u001b[0m\u001b[1;32m      2\u001b[0m \u001b[0mX\u001b[0m \u001b[0;34m=\u001b[0m \u001b[0mimg\u001b[0m\u001b[0;34m.\u001b[0m\u001b[0munsqueeze\u001b[0m\u001b[0;34m(\u001b[0m\u001b[0;36m0\u001b[0m\u001b[0;34m)\u001b[0m\u001b[0;34m\u001b[0m\u001b[0;34m\u001b[0m\u001b[0m\n\u001b[1;32m      3\u001b[0m \u001b[0mY\u001b[0m \u001b[0;34m=\u001b[0m \u001b[0mconv_trans\u001b[0m\u001b[0;34m(\u001b[0m\u001b[0mX\u001b[0m\u001b[0;34m)\u001b[0m\u001b[0;34m\u001b[0m\u001b[0;34m\u001b[0m\u001b[0m\n\u001b[1;32m      4\u001b[0m \u001b[0mout_img\u001b[0m \u001b[0;34m=\u001b[0m \u001b[0mY\u001b[0m\u001b[0;34m[\u001b[0m\u001b[0;36m0\u001b[0m\u001b[0;34m]\u001b[0m\u001b[0;34m.\u001b[0m\u001b[0mpermute\u001b[0m\u001b[0;34m(\u001b[0m\u001b[0;36m1\u001b[0m\u001b[0;34m,\u001b[0m \u001b[0;36m2\u001b[0m\u001b[0;34m,\u001b[0m \u001b[0;36m0\u001b[0m\u001b[0;34m)\u001b[0m\u001b[0;34m.\u001b[0m\u001b[0mdetach\u001b[0m\u001b[0;34m(\u001b[0m\u001b[0;34m)\u001b[0m\u001b[0;34m\u001b[0m\u001b[0;34m\u001b[0m\u001b[0m\n",
            "\u001b[0;32m/usr/local/lib/python3.7/dist-packages/PIL/Image.py\u001b[0m in \u001b[0;36mopen\u001b[0;34m(fp, mode)\u001b[0m\n\u001b[1;32m   2841\u001b[0m \u001b[0;34m\u001b[0m\u001b[0m\n\u001b[1;32m   2842\u001b[0m     \u001b[0;32mif\u001b[0m \u001b[0mfilename\u001b[0m\u001b[0;34m:\u001b[0m\u001b[0;34m\u001b[0m\u001b[0;34m\u001b[0m\u001b[0m\n\u001b[0;32m-> 2843\u001b[0;31m         \u001b[0mfp\u001b[0m \u001b[0;34m=\u001b[0m \u001b[0mbuiltins\u001b[0m\u001b[0;34m.\u001b[0m\u001b[0mopen\u001b[0m\u001b[0;34m(\u001b[0m\u001b[0mfilename\u001b[0m\u001b[0;34m,\u001b[0m \u001b[0;34m\"rb\"\u001b[0m\u001b[0;34m)\u001b[0m\u001b[0;34m\u001b[0m\u001b[0;34m\u001b[0m\u001b[0m\n\u001b[0m\u001b[1;32m   2844\u001b[0m         \u001b[0mexclusive_fp\u001b[0m \u001b[0;34m=\u001b[0m \u001b[0;32mTrue\u001b[0m\u001b[0;34m\u001b[0m\u001b[0;34m\u001b[0m\u001b[0m\n\u001b[1;32m   2845\u001b[0m \u001b[0;34m\u001b[0m\u001b[0m\n",
            "\u001b[0;31mFileNotFoundError\u001b[0m: [Errno 2] No such file or directory: '../img/catdog.jpg'"
          ]
        }
      ]
    },
    {
      "cell_type": "markdown",
      "metadata": {
        "origin_pos": 24,
        "id": "-gY7bXlWyQ4b"
      },
      "source": [
        "可以看到，转置卷积层将图像的高和宽分别放大了2倍。\n",
        "除了坐标刻度不同，双线性插值放大的图像和在 :numref:`sec_bbox`中打印出的原图看上去没什么两样。\n"
      ]
    },
    {
      "cell_type": "code",
      "metadata": {
        "origin_pos": 26,
        "tab": [
          "pytorch"
        ],
        "id": "04jFnFldyQ4b",
        "outputId": "f04f581a-5ca8-4c5e-a15e-4e6f39fdd334"
      },
      "source": [
        "d2l.set_figsize()\n",
        "print('input image shape:', img.permute(1, 2, 0).shape)\n",
        "d2l.plt.imshow(img.permute(1, 2, 0));\n",
        "print('output image shape:', out_img.shape)\n",
        "d2l.plt.imshow(out_img);"
      ],
      "execution_count": null,
      "outputs": [
        {
          "name": "stdout",
          "output_type": "stream",
          "text": [
            "input image shape: torch.Size([561, 728, 3])\n",
            "output image shape: torch.Size([1122, 1456, 3])\n"
          ]
        },
        {
          "data": {
            "image/svg+xml": [
              "<?xml version=\"1.0\" encoding=\"utf-8\" standalone=\"no\"?>\n",
              "<!DOCTYPE svg PUBLIC \"-//W3C//DTD SVG 1.1//EN\"\n",
              "  \"http://www.w3.org/Graphics/SVG/1.1/DTD/svg11.dtd\">\n",
              "<svg height=\"170.716782pt\" version=\"1.1\" viewBox=\"0 0 223.20508 170.716782\" width=\"223.20508pt\" xmlns=\"http://www.w3.org/2000/svg\" xmlns:xlink=\"http://www.w3.org/1999/xlink\">\n",
              " <metadata>\n",
              "  <rdf:RDF xmlns:cc=\"http://creativecommons.org/ns#\" xmlns:dc=\"http://purl.org/dc/elements/1.1/\" xmlns:rdf=\"http://www.w3.org/1999/02/22-rdf-syntax-ns#\">\n",
              "   <cc:Work>\n",
              "    <dc:type rdf:resource=\"http://purl.org/dc/dcmitype/StillImage\"/>\n",
              "    <dc:date>2021-08-17T18:44:01.241864</dc:date>\n",
              "    <dc:format>image/svg+xml</dc:format>\n",
              "    <dc:creator>\n",
              "     <cc:Agent>\n",
              "      <dc:title>Matplotlib v3.4.0rc1, https://matplotlib.org/</dc:title>\n",
              "     </cc:Agent>\n",
              "    </dc:creator>\n",
              "   </cc:Work>\n",
              "  </rdf:RDF>\n",
              " </metadata>\n",
              " <defs>\n",
              "  <style type=\"text/css\">*{stroke-linecap:butt;stroke-linejoin:round;}</style>\n",
              " </defs>\n",
              " <g id=\"figure_1\">\n",
              "  <g id=\"patch_1\">\n",
              "   <path d=\"M 0 170.716782 \n",
              "L 223.20508 170.716782 \n",
              "L 223.20508 0 \n",
              "L 0 0 \n",
              "z\n",
              "\" style=\"fill:none;\"/>\n",
              "  </g>\n",
              "  <g id=\"axes_1\">\n",
              "   <g id=\"patch_2\">\n",
              "    <path d=\"M 39.65 146.838657 \n",
              "L 216.00508 146.838657 \n",
              "L 216.00508 10.938657 \n",
              "L 39.65 10.938657 \n",
              "z\n",
              "\" style=\"fill:#ffffff;\"/>\n",
              "   </g>\n",
              "   <g clip-path=\"url(#p8f947165ca)\">\n",
              "    <image height=\"136\" id=\"imageb573b67a95\" transform=\"scale(1 -1)translate(0 -136)\" width=\"177\" x=\"40\" xlink:href=\"data:image/png;base64,\n",
              "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\" y=\"-10.716782\"/>\n",
              "   </g>\n",
              "   <g id=\"matplotlib.axis_1\">\n",
              "    <g id=\"xtick_1\">\n",
              "     <g id=\"line2d_1\">\n",
              "      <defs>\n",
              "       <path d=\"M 0 0 \n",
              "L 0 3.5 \n",
              "\" id=\"m0c1a063931\" style=\"stroke:#000000;stroke-width:0.8;\"/>\n",
              "      </defs>\n",
              "      <g>\n",
              "       <use style=\"stroke:#000000;stroke-width:0.8;\" x=\"39.710561\" xlink:href=\"#m0c1a063931\" y=\"146.838657\"/>\n",
              "      </g>\n",
              "     </g>\n",
              "     <g id=\"text_1\">\n",
              "      <!-- 0 -->\n",
              "      <g transform=\"translate(36.529311 161.437095)scale(0.1 -0.1)\">\n",
              "       <defs>\n",
              "        <path d=\"M 2034 4250 \n",
              "Q 1547 4250 1301 3770 \n",
              "Q 1056 3291 1056 2328 \n",
              "Q 1056 1369 1301 889 \n",
              "Q 1547 409 2034 409 \n",
              "Q 2525 409 2770 889 \n",
              "Q 3016 1369 3016 2328 \n",
              "Q 3016 3291 2770 3770 \n",
              "Q 2525 4250 2034 4250 \n",
              "z\n",
              "M 2034 4750 \n",
              "Q 2819 4750 3233 4129 \n",
              "Q 3647 3509 3647 2328 \n",
              "Q 3647 1150 3233 529 \n",
              "Q 2819 -91 2034 -91 \n",
              "Q 1250 -91 836 529 \n",
              "Q 422 1150 422 2328 \n",
              "Q 422 3509 836 4129 \n",
              "Q 1250 4750 2034 4750 \n",
              "z\n",
              "\" id=\"DejaVuSans-30\" transform=\"scale(0.015625)\"/>\n",
              "       </defs>\n",
              "       <use xlink:href=\"#DejaVuSans-30\"/>\n",
              "      </g>\n",
              "     </g>\n",
              "    </g>\n",
              "    <g id=\"xtick_2\">\n",
              "     <g id=\"line2d_2\">\n",
              "      <g>\n",
              "       <use style=\"stroke:#000000;stroke-width:0.8;\" x=\"100.272059\" xlink:href=\"#m0c1a063931\" y=\"146.838657\"/>\n",
              "      </g>\n",
              "     </g>\n",
              "     <g id=\"text_2\">\n",
              "      <!-- 500 -->\n",
              "      <g transform=\"translate(90.728309 161.437095)scale(0.1 -0.1)\">\n",
              "       <defs>\n",
              "        <path d=\"M 691 4666 \n",
              "L 3169 4666 \n",
              "L 3169 4134 \n",
              "L 1269 4134 \n",
              "L 1269 2991 \n",
              "Q 1406 3038 1543 3061 \n",
              "Q 1681 3084 1819 3084 \n",
              "Q 2600 3084 3056 2656 \n",
              "Q 3513 2228 3513 1497 \n",
              "Q 3513 744 3044 326 \n",
              "Q 2575 -91 1722 -91 \n",
              "Q 1428 -91 1123 -41 \n",
              "Q 819 9 494 109 \n",
              "L 494 744 \n",
              "Q 775 591 1075 516 \n",
              "Q 1375 441 1709 441 \n",
              "Q 2250 441 2565 725 \n",
              "Q 2881 1009 2881 1497 \n",
              "Q 2881 1984 2565 2268 \n",
              "Q 2250 2553 1709 2553 \n",
              "Q 1456 2553 1204 2497 \n",
              "Q 953 2441 691 2322 \n",
              "L 691 4666 \n",
              "z\n",
              "\" id=\"DejaVuSans-35\" transform=\"scale(0.015625)\"/>\n",
              "       </defs>\n",
              "       <use xlink:href=\"#DejaVuSans-35\"/>\n",
              "       <use x=\"63.623047\" xlink:href=\"#DejaVuSans-30\"/>\n",
              "       <use x=\"127.246094\" xlink:href=\"#DejaVuSans-30\"/>\n",
              "      </g>\n",
              "     </g>\n",
              "    </g>\n",
              "    <g id=\"xtick_3\">\n",
              "     <g id=\"line2d_3\">\n",
              "      <g>\n",
              "       <use style=\"stroke:#000000;stroke-width:0.8;\" x=\"160.833556\" xlink:href=\"#m0c1a063931\" y=\"146.838657\"/>\n",
              "      </g>\n",
              "     </g>\n",
              "     <g id=\"text_3\">\n",
              "      <!-- 1000 -->\n",
              "      <g transform=\"translate(148.108556 161.437095)scale(0.1 -0.1)\">\n",
              "       <defs>\n",
              "        <path d=\"M 794 531 \n",
              "L 1825 531 \n",
              "L 1825 4091 \n",
              "L 703 3866 \n",
              "L 703 4441 \n",
              "L 1819 4666 \n",
              "L 2450 4666 \n",
              "L 2450 531 \n",
              "L 3481 531 \n",
              "L 3481 0 \n",
              "L 794 0 \n",
              "L 794 531 \n",
              "z\n",
              "\" id=\"DejaVuSans-31\" transform=\"scale(0.015625)\"/>\n",
              "       </defs>\n",
              "       <use xlink:href=\"#DejaVuSans-31\"/>\n",
              "       <use x=\"63.623047\" xlink:href=\"#DejaVuSans-30\"/>\n",
              "       <use x=\"127.246094\" xlink:href=\"#DejaVuSans-30\"/>\n",
              "       <use x=\"190.869141\" xlink:href=\"#DejaVuSans-30\"/>\n",
              "      </g>\n",
              "     </g>\n",
              "    </g>\n",
              "   </g>\n",
              "   <g id=\"matplotlib.axis_2\">\n",
              "    <g id=\"ytick_1\">\n",
              "     <g id=\"line2d_4\">\n",
              "      <defs>\n",
              "       <path d=\"M 0 0 \n",
              "L -3.5 0 \n",
              "\" id=\"m5faeadddba\" style=\"stroke:#000000;stroke-width:0.8;\"/>\n",
              "      </defs>\n",
              "      <g>\n",
              "       <use style=\"stroke:#000000;stroke-width:0.8;\" x=\"39.65\" xlink:href=\"#m5faeadddba\" y=\"10.999219\"/>\n",
              "      </g>\n",
              "     </g>\n",
              "     <g id=\"text_4\">\n",
              "      <!-- 0 -->\n",
              "      <g transform=\"translate(26.2875 14.798437)scale(0.1 -0.1)\">\n",
              "       <use xlink:href=\"#DejaVuSans-30\"/>\n",
              "      </g>\n",
              "     </g>\n",
              "    </g>\n",
              "    <g id=\"ytick_2\">\n",
              "     <g id=\"line2d_5\">\n",
              "      <g>\n",
              "       <use style=\"stroke:#000000;stroke-width:0.8;\" x=\"39.65\" xlink:href=\"#m5faeadddba\" y=\"35.223818\"/>\n",
              "      </g>\n",
              "     </g>\n",
              "     <g id=\"text_5\">\n",
              "      <!-- 200 -->\n",
              "      <g transform=\"translate(13.5625 39.023036)scale(0.1 -0.1)\">\n",
              "       <defs>\n",
              "        <path d=\"M 1228 531 \n",
              "L 3431 531 \n",
              "L 3431 0 \n",
              "L 469 0 \n",
              "L 469 531 \n",
              "Q 828 903 1448 1529 \n",
              "Q 2069 2156 2228 2338 \n",
              "Q 2531 2678 2651 2914 \n",
              "Q 2772 3150 2772 3378 \n",
              "Q 2772 3750 2511 3984 \n",
              "Q 2250 4219 1831 4219 \n",
              "Q 1534 4219 1204 4116 \n",
              "Q 875 4013 500 3803 \n",
              "L 500 4441 \n",
              "Q 881 4594 1212 4672 \n",
              "Q 1544 4750 1819 4750 \n",
              "Q 2544 4750 2975 4387 \n",
              "Q 3406 4025 3406 3419 \n",
              "Q 3406 3131 3298 2873 \n",
              "Q 3191 2616 2906 2266 \n",
              "Q 2828 2175 2409 1742 \n",
              "Q 1991 1309 1228 531 \n",
              "z\n",
              "\" id=\"DejaVuSans-32\" transform=\"scale(0.015625)\"/>\n",
              "       </defs>\n",
              "       <use xlink:href=\"#DejaVuSans-32\"/>\n",
              "       <use x=\"63.623047\" xlink:href=\"#DejaVuSans-30\"/>\n",
              "       <use x=\"127.246094\" xlink:href=\"#DejaVuSans-30\"/>\n",
              "      </g>\n",
              "     </g>\n",
              "    </g>\n",
              "    <g id=\"ytick_3\">\n",
              "     <g id=\"line2d_6\">\n",
              "      <g>\n",
              "       <use style=\"stroke:#000000;stroke-width:0.8;\" x=\"39.65\" xlink:href=\"#m5faeadddba\" y=\"59.448417\"/>\n",
              "      </g>\n",
              "     </g>\n",
              "     <g id=\"text_6\">\n",
              "      <!-- 400 -->\n",
              "      <g transform=\"translate(13.5625 63.247635)scale(0.1 -0.1)\">\n",
              "       <defs>\n",
              "        <path d=\"M 2419 4116 \n",
              "L 825 1625 \n",
              "L 2419 1625 \n",
              "L 2419 4116 \n",
              "z\n",
              "M 2253 4666 \n",
              "L 3047 4666 \n",
              "L 3047 1625 \n",
              "L 3713 1625 \n",
              "L 3713 1100 \n",
              "L 3047 1100 \n",
              "L 3047 0 \n",
              "L 2419 0 \n",
              "L 2419 1100 \n",
              "L 313 1100 \n",
              "L 313 1709 \n",
              "L 2253 4666 \n",
              "z\n",
              "\" id=\"DejaVuSans-34\" transform=\"scale(0.015625)\"/>\n",
              "       </defs>\n",
              "       <use xlink:href=\"#DejaVuSans-34\"/>\n",
              "       <use x=\"63.623047\" xlink:href=\"#DejaVuSans-30\"/>\n",
              "       <use x=\"127.246094\" xlink:href=\"#DejaVuSans-30\"/>\n",
              "      </g>\n",
              "     </g>\n",
              "    </g>\n",
              "    <g id=\"ytick_4\">\n",
              "     <g id=\"line2d_7\">\n",
              "      <g>\n",
              "       <use style=\"stroke:#000000;stroke-width:0.8;\" x=\"39.65\" xlink:href=\"#m5faeadddba\" y=\"83.673016\"/>\n",
              "      </g>\n",
              "     </g>\n",
              "     <g id=\"text_7\">\n",
              "      <!-- 600 -->\n",
              "      <g transform=\"translate(13.5625 87.472234)scale(0.1 -0.1)\">\n",
              "       <defs>\n",
              "        <path d=\"M 2113 2584 \n",
              "Q 1688 2584 1439 2293 \n",
              "Q 1191 2003 1191 1497 \n",
              "Q 1191 994 1439 701 \n",
              "Q 1688 409 2113 409 \n",
              "Q 2538 409 2786 701 \n",
              "Q 3034 994 3034 1497 \n",
              "Q 3034 2003 2786 2293 \n",
              "Q 2538 2584 2113 2584 \n",
              "z\n",
              "M 3366 4563 \n",
              "L 3366 3988 \n",
              "Q 3128 4100 2886 4159 \n",
              "Q 2644 4219 2406 4219 \n",
              "Q 1781 4219 1451 3797 \n",
              "Q 1122 3375 1075 2522 \n",
              "Q 1259 2794 1537 2939 \n",
              "Q 1816 3084 2150 3084 \n",
              "Q 2853 3084 3261 2657 \n",
              "Q 3669 2231 3669 1497 \n",
              "Q 3669 778 3244 343 \n",
              "Q 2819 -91 2113 -91 \n",
              "Q 1303 -91 875 529 \n",
              "Q 447 1150 447 2328 \n",
              "Q 447 3434 972 4092 \n",
              "Q 1497 4750 2381 4750 \n",
              "Q 2619 4750 2861 4703 \n",
              "Q 3103 4656 3366 4563 \n",
              "z\n",
              "\" id=\"DejaVuSans-36\" transform=\"scale(0.015625)\"/>\n",
              "       </defs>\n",
              "       <use xlink:href=\"#DejaVuSans-36\"/>\n",
              "       <use x=\"63.623047\" xlink:href=\"#DejaVuSans-30\"/>\n",
              "       <use x=\"127.246094\" xlink:href=\"#DejaVuSans-30\"/>\n",
              "      </g>\n",
              "     </g>\n",
              "    </g>\n",
              "    <g id=\"ytick_5\">\n",
              "     <g id=\"line2d_8\">\n",
              "      <g>\n",
              "       <use style=\"stroke:#000000;stroke-width:0.8;\" x=\"39.65\" xlink:href=\"#m5faeadddba\" y=\"107.897614\"/>\n",
              "      </g>\n",
              "     </g>\n",
              "     <g id=\"text_8\">\n",
              "      <!-- 800 -->\n",
              "      <g transform=\"translate(13.5625 111.696833)scale(0.1 -0.1)\">\n",
              "       <defs>\n",
              "        <path d=\"M 2034 2216 \n",
              "Q 1584 2216 1326 1975 \n",
              "Q 1069 1734 1069 1313 \n",
              "Q 1069 891 1326 650 \n",
              "Q 1584 409 2034 409 \n",
              "Q 2484 409 2743 651 \n",
              "Q 3003 894 3003 1313 \n",
              "Q 3003 1734 2745 1975 \n",
              "Q 2488 2216 2034 2216 \n",
              "z\n",
              "M 1403 2484 \n",
              "Q 997 2584 770 2862 \n",
              "Q 544 3141 544 3541 \n",
              "Q 544 4100 942 4425 \n",
              "Q 1341 4750 2034 4750 \n",
              "Q 2731 4750 3128 4425 \n",
              "Q 3525 4100 3525 3541 \n",
              "Q 3525 3141 3298 2862 \n",
              "Q 3072 2584 2669 2484 \n",
              "Q 3125 2378 3379 2068 \n",
              "Q 3634 1759 3634 1313 \n",
              "Q 3634 634 3220 271 \n",
              "Q 2806 -91 2034 -91 \n",
              "Q 1263 -91 848 271 \n",
              "Q 434 634 434 1313 \n",
              "Q 434 1759 690 2068 \n",
              "Q 947 2378 1403 2484 \n",
              "z\n",
              "M 1172 3481 \n",
              "Q 1172 3119 1398 2916 \n",
              "Q 1625 2713 2034 2713 \n",
              "Q 2441 2713 2670 2916 \n",
              "Q 2900 3119 2900 3481 \n",
              "Q 2900 3844 2670 4047 \n",
              "Q 2441 4250 2034 4250 \n",
              "Q 1625 4250 1398 4047 \n",
              "Q 1172 3844 1172 3481 \n",
              "z\n",
              "\" id=\"DejaVuSans-38\" transform=\"scale(0.015625)\"/>\n",
              "       </defs>\n",
              "       <use xlink:href=\"#DejaVuSans-38\"/>\n",
              "       <use x=\"63.623047\" xlink:href=\"#DejaVuSans-30\"/>\n",
              "       <use x=\"127.246094\" xlink:href=\"#DejaVuSans-30\"/>\n",
              "      </g>\n",
              "     </g>\n",
              "    </g>\n",
              "    <g id=\"ytick_6\">\n",
              "     <g id=\"line2d_9\">\n",
              "      <g>\n",
              "       <use style=\"stroke:#000000;stroke-width:0.8;\" x=\"39.65\" xlink:href=\"#m5faeadddba\" y=\"132.122213\"/>\n",
              "      </g>\n",
              "     </g>\n",
              "     <g id=\"text_9\">\n",
              "      <!-- 1000 -->\n",
              "      <g transform=\"translate(7.2 135.921432)scale(0.1 -0.1)\">\n",
              "       <use xlink:href=\"#DejaVuSans-31\"/>\n",
              "       <use x=\"63.623047\" xlink:href=\"#DejaVuSans-30\"/>\n",
              "       <use x=\"127.246094\" xlink:href=\"#DejaVuSans-30\"/>\n",
              "       <use x=\"190.869141\" xlink:href=\"#DejaVuSans-30\"/>\n",
              "      </g>\n",
              "     </g>\n",
              "    </g>\n",
              "   </g>\n",
              "   <g id=\"patch_3\">\n",
              "    <path d=\"M 39.65 146.838657 \n",
              "L 39.65 10.938657 \n",
              "\" style=\"fill:none;stroke:#000000;stroke-linecap:square;stroke-linejoin:miter;stroke-width:0.8;\"/>\n",
              "   </g>\n",
              "   <g id=\"patch_4\">\n",
              "    <path d=\"M 216.00508 146.838657 \n",
              "L 216.00508 10.938657 \n",
              "\" style=\"fill:none;stroke:#000000;stroke-linecap:square;stroke-linejoin:miter;stroke-width:0.8;\"/>\n",
              "   </g>\n",
              "   <g id=\"patch_5\">\n",
              "    <path d=\"M 39.65 146.838657 \n",
              "L 216.00508 146.838657 \n",
              "\" style=\"fill:none;stroke:#000000;stroke-linecap:square;stroke-linejoin:miter;stroke-width:0.8;\"/>\n",
              "   </g>\n",
              "   <g id=\"patch_6\">\n",
              "    <path d=\"M 39.65 10.938657 \n",
              "L 216.00508 10.938657 \n",
              "\" style=\"fill:none;stroke:#000000;stroke-linecap:square;stroke-linejoin:miter;stroke-width:0.8;\"/>\n",
              "   </g>\n",
              "  </g>\n",
              " </g>\n",
              " <defs>\n",
              "  <clipPath id=\"p8f947165ca\">\n",
              "   <rect height=\"135.9\" width=\"176.35508\" x=\"39.65\" y=\"10.938657\"/>\n",
              "  </clipPath>\n",
              " </defs>\n",
              "</svg>\n"
            ],
            "text/plain": [
              "<Figure size 252x180 with 1 Axes>"
            ]
          },
          "metadata": {
            "needs_background": "light"
          },
          "output_type": "display_data"
        }
      ]
    },
    {
      "cell_type": "markdown",
      "metadata": {
        "origin_pos": 27,
        "id": "1L4sTOkDyQ4c"
      },
      "source": [
        "在全卷积网络中，我们[**用双线性插值的上采样初始化转置卷积层。对于$1\\times 1$卷积层，我们使用Xavier初始化参数。**]\n"
      ]
    },
    {
      "cell_type": "code",
      "metadata": {
        "origin_pos": 29,
        "tab": [
          "pytorch"
        ],
        "id": "rMEkvob2yQ4c"
      },
      "source": [
        "W = bilinear_kernel(num_classes, num_classes, 64)\n",
        "net.transpose_conv.weight.data.copy_(W);"
      ],
      "execution_count": 11,
      "outputs": []
    },
    {
      "cell_type": "markdown",
      "metadata": {
        "origin_pos": 30,
        "id": "24zNLhqHyQ4c"
      },
      "source": [
        "## [**读取数据集**]\n",
        "\n",
        "我们用 :numref:`sec_semantic_segmentation` 中介绍的语义分割读取数据集。\n",
        "指定随机裁剪的输出图像的形状为$320\\times 480$：高和宽都可以被$32$整除。\n"
      ]
    },
    {
      "cell_type": "code",
      "metadata": {
        "origin_pos": 31,
        "tab": [
          "pytorch"
        ],
        "colab": {
          "base_uri": "https://localhost:8080/"
        },
        "id": "xCm8mQzRyQ4c",
        "outputId": "d260b38c-61a7-4a16-c48b-ec35ba2ae3a2"
      },
      "source": [
        "batch_size, crop_size = 32, (320, 480)\n",
        "train_iter, test_iter = d2l.load_data_voc(batch_size, crop_size)"
      ],
      "execution_count": 12,
      "outputs": [
        {
          "output_type": "stream",
          "name": "stdout",
          "text": [
            "Downloading ../data/VOCtrainval_11-May-2012.tar from http://d2l-data.s3-accelerate.amazonaws.com/VOCtrainval_11-May-2012.tar...\n",
            "read 1114 examples\n"
          ]
        },
        {
          "output_type": "stream",
          "name": "stderr",
          "text": [
            "/usr/local/lib/python3.7/dist-packages/torch/utils/data/dataloader.py:481: UserWarning: This DataLoader will create 4 worker processes in total. Our suggested max number of worker in current system is 2, which is smaller than what this DataLoader is going to create. Please be aware that excessive worker creation might get DataLoader running slow or even freeze, lower the worker number to avoid potential slowness/freeze if necessary.\n",
            "  cpuset_checked))\n"
          ]
        },
        {
          "output_type": "stream",
          "name": "stdout",
          "text": [
            "read 1078 examples\n"
          ]
        }
      ]
    },
    {
      "cell_type": "markdown",
      "metadata": {
        "origin_pos": 32,
        "id": "UKAJh0jxyQ4d"
      },
      "source": [
        "## [**训练**]\n",
        "\n",
        "现在我们可以训练全卷积网络了。\n",
        "这里的损失函数和准确率计算与图像分类中的并没有本质上的不同，因为我们使用转置卷积层的通道来预测像素的类别，所以在损失计算中通道维是指定的。\n",
        "此外，模型基于每个像素的预测类别是否正确来计算准确率。\n"
      ]
    },
    {
      "cell_type": "code",
      "metadata": {
        "origin_pos": 34,
        "tab": [
          "pytorch"
        ],
        "id": "GzyCLWDlyQ4d",
        "outputId": "8acd08da-f327-443e-f6f9-0f9c1849325a",
        "colab": {
          "base_uri": "https://localhost:8080/",
          "height": 300
        }
      },
      "source": [
        "def loss(inputs, targets):\n",
        "    return F.cross_entropy(inputs, targets, reduction='none').mean(1).mean(1)\n",
        "\n",
        "num_epochs, lr, wd, devices = 5, 0.001, 1e-3, d2l.try_all_gpus()\n",
        "trainer = torch.optim.SGD(net.parameters(), lr=lr, weight_decay=wd)\n",
        "d2l.train_ch13(net, train_iter, test_iter, loss, trainer, num_epochs, devices)"
      ],
      "execution_count": 13,
      "outputs": [
        {
          "output_type": "stream",
          "name": "stdout",
          "text": [
            "loss 0.421, train acc 0.870, test acc 0.851\n",
            "39.0 examples/sec on [device(type='cuda', index=0)]\n"
          ]
        },
        {
          "output_type": "display_data",
          "data": {
            "text/plain": [
              "<Figure size 252x180 with 1 Axes>"
            ],
            "image/svg+xml": "<?xml version=\"1.0\" encoding=\"utf-8\" standalone=\"no\"?>\n<!DOCTYPE svg PUBLIC \"-//W3C//DTD SVG 1.1//EN\"\n  \"http://www.w3.org/Graphics/SVG/1.1/DTD/svg11.dtd\">\n<!-- Created with matplotlib (https://matplotlib.org/) -->\n<svg height=\"184.455469pt\" version=\"1.1\" viewBox=\"0 0 235.784375 184.455469\" width=\"235.784375pt\" xmlns=\"http://www.w3.org/2000/svg\" xmlns:xlink=\"http://www.w3.org/1999/xlink\">\n <defs>\n  <style type=\"text/css\">\n*{stroke-linecap:butt;stroke-linejoin:round;}\n  </style>\n </defs>\n <g id=\"figure_1\">\n  <g id=\"patch_1\">\n   <path d=\"M 0 184.455469 \nL 235.784375 184.455469 \nL 235.784375 -0 \nL 0 -0 \nz\n\" style=\"fill:none;\"/>\n  </g>\n  <g id=\"axes_1\">\n   <g id=\"patch_2\">\n    <path d=\"M 30.103125 146.899219 \nL 225.403125 146.899219 \nL 225.403125 10.999219 \nL 30.103125 10.999219 \nz\n\" style=\"fill:#ffffff;\"/>\n   </g>\n   <g id=\"matplotlib.axis_1\">\n    <g id=\"xtick_1\">\n     <g id=\"line2d_1\">\n      <path clip-path=\"url(#p2fc3209dad)\" d=\"M 30.103125 146.899219 \nL 30.103125 10.999219 \n\" style=\"fill:none;stroke:#b0b0b0;stroke-linecap:square;stroke-width:0.8;\"/>\n     </g>\n     <g id=\"line2d_2\">\n      <defs>\n       <path d=\"M 0 0 \nL 0 3.5 \n\" id=\"m6b4efd6f2d\" style=\"stroke:#000000;stroke-width:0.8;\"/>\n      </defs>\n      <g>\n       <use style=\"stroke:#000000;stroke-width:0.8;\" x=\"30.103125\" xlink:href=\"#m6b4efd6f2d\" y=\"146.899219\"/>\n      </g>\n     </g>\n     <g id=\"text_1\">\n      <!-- 1 -->\n      <defs>\n       <path d=\"M 12.40625 8.296875 \nL 28.515625 8.296875 \nL 28.515625 63.921875 \nL 10.984375 60.40625 \nL 10.984375 69.390625 \nL 28.421875 72.90625 \nL 38.28125 72.90625 \nL 38.28125 8.296875 \nL 54.390625 8.296875 \nL 54.390625 0 \nL 12.40625 0 \nz\n\" id=\"DejaVuSans-49\"/>\n      </defs>\n      <g transform=\"translate(26.921875 161.497656)scale(0.1 -0.1)\">\n       <use xlink:href=\"#DejaVuSans-49\"/>\n      </g>\n     </g>\n    </g>\n    <g id=\"xtick_2\">\n     <g id=\"line2d_3\">\n      <path clip-path=\"url(#p2fc3209dad)\" d=\"M 78.928125 146.899219 \nL 78.928125 10.999219 \n\" style=\"fill:none;stroke:#b0b0b0;stroke-linecap:square;stroke-width:0.8;\"/>\n     </g>\n     <g id=\"line2d_4\">\n      <g>\n       <use style=\"stroke:#000000;stroke-width:0.8;\" x=\"78.928125\" xlink:href=\"#m6b4efd6f2d\" y=\"146.899219\"/>\n      </g>\n     </g>\n     <g id=\"text_2\">\n      <!-- 2 -->\n      <defs>\n       <path d=\"M 19.1875 8.296875 \nL 53.609375 8.296875 \nL 53.609375 0 \nL 7.328125 0 \nL 7.328125 8.296875 \nQ 12.9375 14.109375 22.625 23.890625 \nQ 32.328125 33.6875 34.8125 36.53125 \nQ 39.546875 41.84375 41.421875 45.53125 \nQ 43.3125 49.21875 43.3125 52.78125 \nQ 43.3125 58.59375 39.234375 62.25 \nQ 35.15625 65.921875 28.609375 65.921875 \nQ 23.96875 65.921875 18.8125 64.3125 \nQ 13.671875 62.703125 7.8125 59.421875 \nL 7.8125 69.390625 \nQ 13.765625 71.78125 18.9375 73 \nQ 24.125 74.21875 28.421875 74.21875 \nQ 39.75 74.21875 46.484375 68.546875 \nQ 53.21875 62.890625 53.21875 53.421875 \nQ 53.21875 48.921875 51.53125 44.890625 \nQ 49.859375 40.875 45.40625 35.40625 \nQ 44.1875 33.984375 37.640625 27.21875 \nQ 31.109375 20.453125 19.1875 8.296875 \nz\n\" id=\"DejaVuSans-50\"/>\n      </defs>\n      <g transform=\"translate(75.746875 161.497656)scale(0.1 -0.1)\">\n       <use xlink:href=\"#DejaVuSans-50\"/>\n      </g>\n     </g>\n    </g>\n    <g id=\"xtick_3\">\n     <g id=\"line2d_5\">\n      <path clip-path=\"url(#p2fc3209dad)\" d=\"M 127.753125 146.899219 \nL 127.753125 10.999219 \n\" style=\"fill:none;stroke:#b0b0b0;stroke-linecap:square;stroke-width:0.8;\"/>\n     </g>\n     <g id=\"line2d_6\">\n      <g>\n       <use style=\"stroke:#000000;stroke-width:0.8;\" x=\"127.753125\" xlink:href=\"#m6b4efd6f2d\" y=\"146.899219\"/>\n      </g>\n     </g>\n     <g id=\"text_3\">\n      <!-- 3 -->\n      <defs>\n       <path d=\"M 40.578125 39.3125 \nQ 47.65625 37.796875 51.625 33 \nQ 55.609375 28.21875 55.609375 21.1875 \nQ 55.609375 10.40625 48.1875 4.484375 \nQ 40.765625 -1.421875 27.09375 -1.421875 \nQ 22.515625 -1.421875 17.65625 -0.515625 \nQ 12.796875 0.390625 7.625 2.203125 \nL 7.625 11.71875 \nQ 11.71875 9.328125 16.59375 8.109375 \nQ 21.484375 6.890625 26.8125 6.890625 \nQ 36.078125 6.890625 40.9375 10.546875 \nQ 45.796875 14.203125 45.796875 21.1875 \nQ 45.796875 27.640625 41.28125 31.265625 \nQ 36.765625 34.90625 28.71875 34.90625 \nL 20.21875 34.90625 \nL 20.21875 43.015625 \nL 29.109375 43.015625 \nQ 36.375 43.015625 40.234375 45.921875 \nQ 44.09375 48.828125 44.09375 54.296875 \nQ 44.09375 59.90625 40.109375 62.90625 \nQ 36.140625 65.921875 28.71875 65.921875 \nQ 24.65625 65.921875 20.015625 65.03125 \nQ 15.375 64.15625 9.8125 62.3125 \nL 9.8125 71.09375 \nQ 15.4375 72.65625 20.34375 73.4375 \nQ 25.25 74.21875 29.59375 74.21875 \nQ 40.828125 74.21875 47.359375 69.109375 \nQ 53.90625 64.015625 53.90625 55.328125 \nQ 53.90625 49.265625 50.4375 45.09375 \nQ 46.96875 40.921875 40.578125 39.3125 \nz\n\" id=\"DejaVuSans-51\"/>\n      </defs>\n      <g transform=\"translate(124.571875 161.497656)scale(0.1 -0.1)\">\n       <use xlink:href=\"#DejaVuSans-51\"/>\n      </g>\n     </g>\n    </g>\n    <g id=\"xtick_4\">\n     <g id=\"line2d_7\">\n      <path clip-path=\"url(#p2fc3209dad)\" d=\"M 176.578125 146.899219 \nL 176.578125 10.999219 \n\" style=\"fill:none;stroke:#b0b0b0;stroke-linecap:square;stroke-width:0.8;\"/>\n     </g>\n     <g id=\"line2d_8\">\n      <g>\n       <use style=\"stroke:#000000;stroke-width:0.8;\" x=\"176.578125\" xlink:href=\"#m6b4efd6f2d\" y=\"146.899219\"/>\n      </g>\n     </g>\n     <g id=\"text_4\">\n      <!-- 4 -->\n      <defs>\n       <path d=\"M 37.796875 64.3125 \nL 12.890625 25.390625 \nL 37.796875 25.390625 \nz\nM 35.203125 72.90625 \nL 47.609375 72.90625 \nL 47.609375 25.390625 \nL 58.015625 25.390625 \nL 58.015625 17.1875 \nL 47.609375 17.1875 \nL 47.609375 0 \nL 37.796875 0 \nL 37.796875 17.1875 \nL 4.890625 17.1875 \nL 4.890625 26.703125 \nz\n\" id=\"DejaVuSans-52\"/>\n      </defs>\n      <g transform=\"translate(173.396875 161.497656)scale(0.1 -0.1)\">\n       <use xlink:href=\"#DejaVuSans-52\"/>\n      </g>\n     </g>\n    </g>\n    <g id=\"xtick_5\">\n     <g id=\"line2d_9\">\n      <path clip-path=\"url(#p2fc3209dad)\" d=\"M 225.403125 146.899219 \nL 225.403125 10.999219 \n\" style=\"fill:none;stroke:#b0b0b0;stroke-linecap:square;stroke-width:0.8;\"/>\n     </g>\n     <g id=\"line2d_10\">\n      <g>\n       <use style=\"stroke:#000000;stroke-width:0.8;\" x=\"225.403125\" xlink:href=\"#m6b4efd6f2d\" y=\"146.899219\"/>\n      </g>\n     </g>\n     <g id=\"text_5\">\n      <!-- 5 -->\n      <defs>\n       <path d=\"M 10.796875 72.90625 \nL 49.515625 72.90625 \nL 49.515625 64.59375 \nL 19.828125 64.59375 \nL 19.828125 46.734375 \nQ 21.96875 47.46875 24.109375 47.828125 \nQ 26.265625 48.1875 28.421875 48.1875 \nQ 40.625 48.1875 47.75 41.5 \nQ 54.890625 34.8125 54.890625 23.390625 \nQ 54.890625 11.625 47.5625 5.09375 \nQ 40.234375 -1.421875 26.90625 -1.421875 \nQ 22.3125 -1.421875 17.546875 -0.640625 \nQ 12.796875 0.140625 7.71875 1.703125 \nL 7.71875 11.625 \nQ 12.109375 9.234375 16.796875 8.0625 \nQ 21.484375 6.890625 26.703125 6.890625 \nQ 35.15625 6.890625 40.078125 11.328125 \nQ 45.015625 15.765625 45.015625 23.390625 \nQ 45.015625 31 40.078125 35.4375 \nQ 35.15625 39.890625 26.703125 39.890625 \nQ 22.75 39.890625 18.8125 39.015625 \nQ 14.890625 38.140625 10.796875 36.28125 \nz\n\" id=\"DejaVuSans-53\"/>\n      </defs>\n      <g transform=\"translate(222.221875 161.497656)scale(0.1 -0.1)\">\n       <use xlink:href=\"#DejaVuSans-53\"/>\n      </g>\n     </g>\n    </g>\n    <g id=\"text_6\">\n     <!-- epoch -->\n     <defs>\n      <path d=\"M 56.203125 29.59375 \nL 56.203125 25.203125 \nL 14.890625 25.203125 \nQ 15.484375 15.921875 20.484375 11.0625 \nQ 25.484375 6.203125 34.421875 6.203125 \nQ 39.59375 6.203125 44.453125 7.46875 \nQ 49.3125 8.734375 54.109375 11.28125 \nL 54.109375 2.78125 \nQ 49.265625 0.734375 44.1875 -0.34375 \nQ 39.109375 -1.421875 33.890625 -1.421875 \nQ 20.796875 -1.421875 13.15625 6.1875 \nQ 5.515625 13.8125 5.515625 26.8125 \nQ 5.515625 40.234375 12.765625 48.109375 \nQ 20.015625 56 32.328125 56 \nQ 43.359375 56 49.78125 48.890625 \nQ 56.203125 41.796875 56.203125 29.59375 \nz\nM 47.21875 32.234375 \nQ 47.125 39.59375 43.09375 43.984375 \nQ 39.0625 48.390625 32.421875 48.390625 \nQ 24.90625 48.390625 20.390625 44.140625 \nQ 15.875 39.890625 15.1875 32.171875 \nz\n\" id=\"DejaVuSans-101\"/>\n      <path d=\"M 18.109375 8.203125 \nL 18.109375 -20.796875 \nL 9.078125 -20.796875 \nL 9.078125 54.6875 \nL 18.109375 54.6875 \nL 18.109375 46.390625 \nQ 20.953125 51.265625 25.265625 53.625 \nQ 29.59375 56 35.59375 56 \nQ 45.5625 56 51.78125 48.09375 \nQ 58.015625 40.1875 58.015625 27.296875 \nQ 58.015625 14.40625 51.78125 6.484375 \nQ 45.5625 -1.421875 35.59375 -1.421875 \nQ 29.59375 -1.421875 25.265625 0.953125 \nQ 20.953125 3.328125 18.109375 8.203125 \nz\nM 48.6875 27.296875 \nQ 48.6875 37.203125 44.609375 42.84375 \nQ 40.53125 48.484375 33.40625 48.484375 \nQ 26.265625 48.484375 22.1875 42.84375 \nQ 18.109375 37.203125 18.109375 27.296875 \nQ 18.109375 17.390625 22.1875 11.75 \nQ 26.265625 6.109375 33.40625 6.109375 \nQ 40.53125 6.109375 44.609375 11.75 \nQ 48.6875 17.390625 48.6875 27.296875 \nz\n\" id=\"DejaVuSans-112\"/>\n      <path d=\"M 30.609375 48.390625 \nQ 23.390625 48.390625 19.1875 42.75 \nQ 14.984375 37.109375 14.984375 27.296875 \nQ 14.984375 17.484375 19.15625 11.84375 \nQ 23.34375 6.203125 30.609375 6.203125 \nQ 37.796875 6.203125 41.984375 11.859375 \nQ 46.1875 17.53125 46.1875 27.296875 \nQ 46.1875 37.015625 41.984375 42.703125 \nQ 37.796875 48.390625 30.609375 48.390625 \nz\nM 30.609375 56 \nQ 42.328125 56 49.015625 48.375 \nQ 55.71875 40.765625 55.71875 27.296875 \nQ 55.71875 13.875 49.015625 6.21875 \nQ 42.328125 -1.421875 30.609375 -1.421875 \nQ 18.84375 -1.421875 12.171875 6.21875 \nQ 5.515625 13.875 5.515625 27.296875 \nQ 5.515625 40.765625 12.171875 48.375 \nQ 18.84375 56 30.609375 56 \nz\n\" id=\"DejaVuSans-111\"/>\n      <path d=\"M 48.78125 52.59375 \nL 48.78125 44.1875 \nQ 44.96875 46.296875 41.140625 47.34375 \nQ 37.3125 48.390625 33.40625 48.390625 \nQ 24.65625 48.390625 19.8125 42.84375 \nQ 14.984375 37.3125 14.984375 27.296875 \nQ 14.984375 17.28125 19.8125 11.734375 \nQ 24.65625 6.203125 33.40625 6.203125 \nQ 37.3125 6.203125 41.140625 7.25 \nQ 44.96875 8.296875 48.78125 10.40625 \nL 48.78125 2.09375 \nQ 45.015625 0.34375 40.984375 -0.53125 \nQ 36.96875 -1.421875 32.421875 -1.421875 \nQ 20.0625 -1.421875 12.78125 6.34375 \nQ 5.515625 14.109375 5.515625 27.296875 \nQ 5.515625 40.671875 12.859375 48.328125 \nQ 20.21875 56 33.015625 56 \nQ 37.15625 56 41.109375 55.140625 \nQ 45.0625 54.296875 48.78125 52.59375 \nz\n\" id=\"DejaVuSans-99\"/>\n      <path d=\"M 54.890625 33.015625 \nL 54.890625 0 \nL 45.90625 0 \nL 45.90625 32.71875 \nQ 45.90625 40.484375 42.875 44.328125 \nQ 39.84375 48.1875 33.796875 48.1875 \nQ 26.515625 48.1875 22.3125 43.546875 \nQ 18.109375 38.921875 18.109375 30.90625 \nL 18.109375 0 \nL 9.078125 0 \nL 9.078125 75.984375 \nL 18.109375 75.984375 \nL 18.109375 46.1875 \nQ 21.34375 51.125 25.703125 53.5625 \nQ 30.078125 56 35.796875 56 \nQ 45.21875 56 50.046875 50.171875 \nQ 54.890625 44.34375 54.890625 33.015625 \nz\n\" id=\"DejaVuSans-104\"/>\n     </defs>\n     <g transform=\"translate(112.525 175.175781)scale(0.1 -0.1)\">\n      <use xlink:href=\"#DejaVuSans-101\"/>\n      <use x=\"61.523438\" xlink:href=\"#DejaVuSans-112\"/>\n      <use x=\"125\" xlink:href=\"#DejaVuSans-111\"/>\n      <use x=\"186.181641\" xlink:href=\"#DejaVuSans-99\"/>\n      <use x=\"241.162109\" xlink:href=\"#DejaVuSans-104\"/>\n     </g>\n    </g>\n   </g>\n   <g id=\"matplotlib.axis_2\">\n    <g id=\"ytick_1\">\n     <g id=\"line2d_11\">\n      <path clip-path=\"url(#p2fc3209dad)\" d=\"M 30.103125 146.899219 \nL 225.403125 146.899219 \n\" style=\"fill:none;stroke:#b0b0b0;stroke-linecap:square;stroke-width:0.8;\"/>\n     </g>\n     <g id=\"line2d_12\">\n      <defs>\n       <path d=\"M 0 0 \nL -3.5 0 \n\" id=\"mb29c2f585c\" style=\"stroke:#000000;stroke-width:0.8;\"/>\n      </defs>\n      <g>\n       <use style=\"stroke:#000000;stroke-width:0.8;\" x=\"30.103125\" xlink:href=\"#mb29c2f585c\" y=\"146.899219\"/>\n      </g>\n     </g>\n     <g id=\"text_7\">\n      <!-- 0.0 -->\n      <defs>\n       <path d=\"M 31.78125 66.40625 \nQ 24.171875 66.40625 20.328125 58.90625 \nQ 16.5 51.421875 16.5 36.375 \nQ 16.5 21.390625 20.328125 13.890625 \nQ 24.171875 6.390625 31.78125 6.390625 \nQ 39.453125 6.390625 43.28125 13.890625 \nQ 47.125 21.390625 47.125 36.375 \nQ 47.125 51.421875 43.28125 58.90625 \nQ 39.453125 66.40625 31.78125 66.40625 \nz\nM 31.78125 74.21875 \nQ 44.046875 74.21875 50.515625 64.515625 \nQ 56.984375 54.828125 56.984375 36.375 \nQ 56.984375 17.96875 50.515625 8.265625 \nQ 44.046875 -1.421875 31.78125 -1.421875 \nQ 19.53125 -1.421875 13.0625 8.265625 \nQ 6.59375 17.96875 6.59375 36.375 \nQ 6.59375 54.828125 13.0625 64.515625 \nQ 19.53125 74.21875 31.78125 74.21875 \nz\n\" id=\"DejaVuSans-48\"/>\n       <path d=\"M 10.6875 12.40625 \nL 21 12.40625 \nL 21 0 \nL 10.6875 0 \nz\n\" id=\"DejaVuSans-46\"/>\n      </defs>\n      <g transform=\"translate(7.2 150.698437)scale(0.1 -0.1)\">\n       <use xlink:href=\"#DejaVuSans-48\"/>\n       <use x=\"63.623047\" xlink:href=\"#DejaVuSans-46\"/>\n       <use x=\"95.410156\" xlink:href=\"#DejaVuSans-48\"/>\n      </g>\n     </g>\n    </g>\n    <g id=\"ytick_2\">\n     <g id=\"line2d_13\">\n      <path clip-path=\"url(#p2fc3209dad)\" d=\"M 30.103125 119.719219 \nL 225.403125 119.719219 \n\" style=\"fill:none;stroke:#b0b0b0;stroke-linecap:square;stroke-width:0.8;\"/>\n     </g>\n     <g id=\"line2d_14\">\n      <g>\n       <use style=\"stroke:#000000;stroke-width:0.8;\" x=\"30.103125\" xlink:href=\"#mb29c2f585c\" y=\"119.719219\"/>\n      </g>\n     </g>\n     <g id=\"text_8\">\n      <!-- 0.2 -->\n      <g transform=\"translate(7.2 123.518437)scale(0.1 -0.1)\">\n       <use xlink:href=\"#DejaVuSans-48\"/>\n       <use x=\"63.623047\" xlink:href=\"#DejaVuSans-46\"/>\n       <use x=\"95.410156\" xlink:href=\"#DejaVuSans-50\"/>\n      </g>\n     </g>\n    </g>\n    <g id=\"ytick_3\">\n     <g id=\"line2d_15\">\n      <path clip-path=\"url(#p2fc3209dad)\" d=\"M 30.103125 92.539219 \nL 225.403125 92.539219 \n\" style=\"fill:none;stroke:#b0b0b0;stroke-linecap:square;stroke-width:0.8;\"/>\n     </g>\n     <g id=\"line2d_16\">\n      <g>\n       <use style=\"stroke:#000000;stroke-width:0.8;\" x=\"30.103125\" xlink:href=\"#mb29c2f585c\" y=\"92.539219\"/>\n      </g>\n     </g>\n     <g id=\"text_9\">\n      <!-- 0.4 -->\n      <g transform=\"translate(7.2 96.338437)scale(0.1 -0.1)\">\n       <use xlink:href=\"#DejaVuSans-48\"/>\n       <use x=\"63.623047\" xlink:href=\"#DejaVuSans-46\"/>\n       <use x=\"95.410156\" xlink:href=\"#DejaVuSans-52\"/>\n      </g>\n     </g>\n    </g>\n    <g id=\"ytick_4\">\n     <g id=\"line2d_17\">\n      <path clip-path=\"url(#p2fc3209dad)\" d=\"M 30.103125 65.359219 \nL 225.403125 65.359219 \n\" style=\"fill:none;stroke:#b0b0b0;stroke-linecap:square;stroke-width:0.8;\"/>\n     </g>\n     <g id=\"line2d_18\">\n      <g>\n       <use style=\"stroke:#000000;stroke-width:0.8;\" x=\"30.103125\" xlink:href=\"#mb29c2f585c\" y=\"65.359219\"/>\n      </g>\n     </g>\n     <g id=\"text_10\">\n      <!-- 0.6 -->\n      <defs>\n       <path d=\"M 33.015625 40.375 \nQ 26.375 40.375 22.484375 35.828125 \nQ 18.609375 31.296875 18.609375 23.390625 \nQ 18.609375 15.53125 22.484375 10.953125 \nQ 26.375 6.390625 33.015625 6.390625 \nQ 39.65625 6.390625 43.53125 10.953125 \nQ 47.40625 15.53125 47.40625 23.390625 \nQ 47.40625 31.296875 43.53125 35.828125 \nQ 39.65625 40.375 33.015625 40.375 \nz\nM 52.59375 71.296875 \nL 52.59375 62.3125 \nQ 48.875 64.0625 45.09375 64.984375 \nQ 41.3125 65.921875 37.59375 65.921875 \nQ 27.828125 65.921875 22.671875 59.328125 \nQ 17.53125 52.734375 16.796875 39.40625 \nQ 19.671875 43.65625 24.015625 45.921875 \nQ 28.375 48.1875 33.59375 48.1875 \nQ 44.578125 48.1875 50.953125 41.515625 \nQ 57.328125 34.859375 57.328125 23.390625 \nQ 57.328125 12.15625 50.6875 5.359375 \nQ 44.046875 -1.421875 33.015625 -1.421875 \nQ 20.359375 -1.421875 13.671875 8.265625 \nQ 6.984375 17.96875 6.984375 36.375 \nQ 6.984375 53.65625 15.1875 63.9375 \nQ 23.390625 74.21875 37.203125 74.21875 \nQ 40.921875 74.21875 44.703125 73.484375 \nQ 48.484375 72.75 52.59375 71.296875 \nz\n\" id=\"DejaVuSans-54\"/>\n      </defs>\n      <g transform=\"translate(7.2 69.158437)scale(0.1 -0.1)\">\n       <use xlink:href=\"#DejaVuSans-48\"/>\n       <use x=\"63.623047\" xlink:href=\"#DejaVuSans-46\"/>\n       <use x=\"95.410156\" xlink:href=\"#DejaVuSans-54\"/>\n      </g>\n     </g>\n    </g>\n    <g id=\"ytick_5\">\n     <g id=\"line2d_19\">\n      <path clip-path=\"url(#p2fc3209dad)\" d=\"M 30.103125 38.179219 \nL 225.403125 38.179219 \n\" style=\"fill:none;stroke:#b0b0b0;stroke-linecap:square;stroke-width:0.8;\"/>\n     </g>\n     <g id=\"line2d_20\">\n      <g>\n       <use style=\"stroke:#000000;stroke-width:0.8;\" x=\"30.103125\" xlink:href=\"#mb29c2f585c\" y=\"38.179219\"/>\n      </g>\n     </g>\n     <g id=\"text_11\">\n      <!-- 0.8 -->\n      <defs>\n       <path d=\"M 31.78125 34.625 \nQ 24.75 34.625 20.71875 30.859375 \nQ 16.703125 27.09375 16.703125 20.515625 \nQ 16.703125 13.921875 20.71875 10.15625 \nQ 24.75 6.390625 31.78125 6.390625 \nQ 38.8125 6.390625 42.859375 10.171875 \nQ 46.921875 13.96875 46.921875 20.515625 \nQ 46.921875 27.09375 42.890625 30.859375 \nQ 38.875 34.625 31.78125 34.625 \nz\nM 21.921875 38.8125 \nQ 15.578125 40.375 12.03125 44.71875 \nQ 8.5 49.078125 8.5 55.328125 \nQ 8.5 64.0625 14.71875 69.140625 \nQ 20.953125 74.21875 31.78125 74.21875 \nQ 42.671875 74.21875 48.875 69.140625 \nQ 55.078125 64.0625 55.078125 55.328125 \nQ 55.078125 49.078125 51.53125 44.71875 \nQ 48 40.375 41.703125 38.8125 \nQ 48.828125 37.15625 52.796875 32.3125 \nQ 56.78125 27.484375 56.78125 20.515625 \nQ 56.78125 9.90625 50.3125 4.234375 \nQ 43.84375 -1.421875 31.78125 -1.421875 \nQ 19.734375 -1.421875 13.25 4.234375 \nQ 6.78125 9.90625 6.78125 20.515625 \nQ 6.78125 27.484375 10.78125 32.3125 \nQ 14.796875 37.15625 21.921875 38.8125 \nz\nM 18.3125 54.390625 \nQ 18.3125 48.734375 21.84375 45.5625 \nQ 25.390625 42.390625 31.78125 42.390625 \nQ 38.140625 42.390625 41.71875 45.5625 \nQ 45.3125 48.734375 45.3125 54.390625 \nQ 45.3125 60.0625 41.71875 63.234375 \nQ 38.140625 66.40625 31.78125 66.40625 \nQ 25.390625 66.40625 21.84375 63.234375 \nQ 18.3125 60.0625 18.3125 54.390625 \nz\n\" id=\"DejaVuSans-56\"/>\n      </defs>\n      <g transform=\"translate(7.2 41.978437)scale(0.1 -0.1)\">\n       <use xlink:href=\"#DejaVuSans-48\"/>\n       <use x=\"63.623047\" xlink:href=\"#DejaVuSans-46\"/>\n       <use x=\"95.410156\" xlink:href=\"#DejaVuSans-56\"/>\n      </g>\n     </g>\n    </g>\n    <g id=\"ytick_6\">\n     <g id=\"line2d_21\">\n      <path clip-path=\"url(#p2fc3209dad)\" d=\"M 30.103125 10.999219 \nL 225.403125 10.999219 \n\" style=\"fill:none;stroke:#b0b0b0;stroke-linecap:square;stroke-width:0.8;\"/>\n     </g>\n     <g id=\"line2d_22\">\n      <g>\n       <use style=\"stroke:#000000;stroke-width:0.8;\" x=\"30.103125\" xlink:href=\"#mb29c2f585c\" y=\"10.999219\"/>\n      </g>\n     </g>\n     <g id=\"text_12\">\n      <!-- 1.0 -->\n      <g transform=\"translate(7.2 14.798437)scale(0.1 -0.1)\">\n       <use xlink:href=\"#DejaVuSans-49\"/>\n       <use x=\"63.623047\" xlink:href=\"#DejaVuSans-46\"/>\n       <use x=\"95.410156\" xlink:href=\"#DejaVuSans-48\"/>\n      </g>\n     </g>\n    </g>\n   </g>\n   <g id=\"line2d_23\">\n    <path clip-path=\"url(#p2fc3209dad)\" d=\"M 30.597301 -1 \nL 38.719301 55.662459 \nL 47.335478 58.901619 \nL 55.951654 59.272466 \nL 64.567831 60.943255 \nL 73.184007 61.769643 \nL 78.928125 62.650015 \nL 87.544301 70.418288 \nL 96.160478 72.007944 \nL 104.776654 74.672904 \nL 113.392831 75.202473 \nL 122.009007 76.816486 \nL 127.753125 77.030406 \nL 136.369301 84.437881 \nL 144.985478 83.269768 \nL 153.601654 83.849017 \nL 162.217831 84.133779 \nL 170.834007 85.617862 \nL 176.578125 85.613359 \nL 185.194301 85.198061 \nL 193.810478 88.298541 \nL 202.426654 89.102583 \nL 211.042831 89.808953 \nL 219.659007 89.674696 \nL 225.403125 89.638996 \n\" style=\"fill:none;stroke:#1f77b4;stroke-linecap:square;stroke-width:1.5;\"/>\n   </g>\n   <g id=\"line2d_24\">\n    <path clip-path=\"url(#p2fc3209dad)\" d=\"M -1 53.991206 \nL 7.126654 49.4415 \nL 15.742831 47.367653 \nL 24.359007 46.127663 \nL 30.103125 44.893008 \nL 38.719301 35.631472 \nL 47.335478 34.773795 \nL 55.951654 34.880637 \nL 64.567831 34.334414 \nL 73.184007 34.396771 \nL 78.928125 34.224723 \nL 87.544301 33.051163 \nL 96.160478 32.76773 \nL 104.776654 32.029675 \nL 113.392831 32.064299 \nL 122.009007 31.667739 \nL 127.753125 31.626863 \nL 136.369301 29.774535 \nL 144.985478 30.470101 \nL 153.601654 30.300534 \nL 162.217831 30.119049 \nL 170.834007 29.712472 \nL 176.578125 29.776757 \nL 185.194301 30.420603 \nL 193.810478 29.339118 \nL 202.426654 29.016896 \nL 211.042831 28.790126 \nL 219.659007 28.773533 \nL 225.403125 28.72244 \n\" style=\"fill:none;stroke:#bf00bf;stroke-dasharray:5.55,2.4;stroke-dashoffset:0;stroke-width:1.5;\"/>\n   </g>\n   <g id=\"line2d_25\">\n    <path clip-path=\"url(#p2fc3209dad)\" d=\"M 30.103125 36.235205 \nL 78.928125 33.265629 \nL 127.753125 31.954067 \nL 176.578125 34.28382 \nL 225.403125 31.206429 \n\" style=\"fill:none;stroke:#008000;stroke-dasharray:9.6,2.4,1.5,2.4;stroke-dashoffset:0;stroke-width:1.5;\"/>\n   </g>\n   <g id=\"patch_3\">\n    <path d=\"M 30.103125 146.899219 \nL 30.103125 10.999219 \n\" style=\"fill:none;stroke:#000000;stroke-linecap:square;stroke-linejoin:miter;stroke-width:0.8;\"/>\n   </g>\n   <g id=\"patch_4\">\n    <path d=\"M 225.403125 146.899219 \nL 225.403125 10.999219 \n\" style=\"fill:none;stroke:#000000;stroke-linecap:square;stroke-linejoin:miter;stroke-width:0.8;\"/>\n   </g>\n   <g id=\"patch_5\">\n    <path d=\"M 30.103125 146.899219 \nL 225.403125 146.899219 \n\" style=\"fill:none;stroke:#000000;stroke-linecap:square;stroke-linejoin:miter;stroke-width:0.8;\"/>\n   </g>\n   <g id=\"patch_6\">\n    <path d=\"M 30.103125 10.999219 \nL 225.403125 10.999219 \n\" style=\"fill:none;stroke:#000000;stroke-linecap:square;stroke-linejoin:miter;stroke-width:0.8;\"/>\n   </g>\n   <g id=\"legend_1\">\n    <g id=\"patch_7\">\n     <path d=\"M 37.103125 141.899219 \nL 114.871875 141.899219 \nQ 116.871875 141.899219 116.871875 139.899219 \nL 116.871875 96.864844 \nQ 116.871875 94.864844 114.871875 94.864844 \nL 37.103125 94.864844 \nQ 35.103125 94.864844 35.103125 96.864844 \nL 35.103125 139.899219 \nQ 35.103125 141.899219 37.103125 141.899219 \nz\n\" style=\"fill:#ffffff;opacity:0.8;stroke:#cccccc;stroke-linejoin:miter;\"/>\n    </g>\n    <g id=\"line2d_26\">\n     <path d=\"M 39.103125 102.963281 \nL 59.103125 102.963281 \n\" style=\"fill:none;stroke:#1f77b4;stroke-linecap:square;stroke-width:1.5;\"/>\n    </g>\n    <g id=\"line2d_27\"/>\n    <g id=\"text_13\">\n     <!-- train loss -->\n     <defs>\n      <path d=\"M 18.3125 70.21875 \nL 18.3125 54.6875 \nL 36.8125 54.6875 \nL 36.8125 47.703125 \nL 18.3125 47.703125 \nL 18.3125 18.015625 \nQ 18.3125 11.328125 20.140625 9.421875 \nQ 21.96875 7.515625 27.59375 7.515625 \nL 36.8125 7.515625 \nL 36.8125 0 \nL 27.59375 0 \nQ 17.1875 0 13.234375 3.875 \nQ 9.28125 7.765625 9.28125 18.015625 \nL 9.28125 47.703125 \nL 2.6875 47.703125 \nL 2.6875 54.6875 \nL 9.28125 54.6875 \nL 9.28125 70.21875 \nz\n\" id=\"DejaVuSans-116\"/>\n      <path d=\"M 41.109375 46.296875 \nQ 39.59375 47.171875 37.8125 47.578125 \nQ 36.03125 48 33.890625 48 \nQ 26.265625 48 22.1875 43.046875 \nQ 18.109375 38.09375 18.109375 28.8125 \nL 18.109375 0 \nL 9.078125 0 \nL 9.078125 54.6875 \nL 18.109375 54.6875 \nL 18.109375 46.1875 \nQ 20.953125 51.171875 25.484375 53.578125 \nQ 30.03125 56 36.53125 56 \nQ 37.453125 56 38.578125 55.875 \nQ 39.703125 55.765625 41.0625 55.515625 \nz\n\" id=\"DejaVuSans-114\"/>\n      <path d=\"M 34.28125 27.484375 \nQ 23.390625 27.484375 19.1875 25 \nQ 14.984375 22.515625 14.984375 16.5 \nQ 14.984375 11.71875 18.140625 8.90625 \nQ 21.296875 6.109375 26.703125 6.109375 \nQ 34.1875 6.109375 38.703125 11.40625 \nQ 43.21875 16.703125 43.21875 25.484375 \nL 43.21875 27.484375 \nz\nM 52.203125 31.203125 \nL 52.203125 0 \nL 43.21875 0 \nL 43.21875 8.296875 \nQ 40.140625 3.328125 35.546875 0.953125 \nQ 30.953125 -1.421875 24.3125 -1.421875 \nQ 15.921875 -1.421875 10.953125 3.296875 \nQ 6 8.015625 6 15.921875 \nQ 6 25.140625 12.171875 29.828125 \nQ 18.359375 34.515625 30.609375 34.515625 \nL 43.21875 34.515625 \nL 43.21875 35.40625 \nQ 43.21875 41.609375 39.140625 45 \nQ 35.0625 48.390625 27.6875 48.390625 \nQ 23 48.390625 18.546875 47.265625 \nQ 14.109375 46.140625 10.015625 43.890625 \nL 10.015625 52.203125 \nQ 14.9375 54.109375 19.578125 55.046875 \nQ 24.21875 56 28.609375 56 \nQ 40.484375 56 46.34375 49.84375 \nQ 52.203125 43.703125 52.203125 31.203125 \nz\n\" id=\"DejaVuSans-97\"/>\n      <path d=\"M 9.421875 54.6875 \nL 18.40625 54.6875 \nL 18.40625 0 \nL 9.421875 0 \nz\nM 9.421875 75.984375 \nL 18.40625 75.984375 \nL 18.40625 64.59375 \nL 9.421875 64.59375 \nz\n\" id=\"DejaVuSans-105\"/>\n      <path d=\"M 54.890625 33.015625 \nL 54.890625 0 \nL 45.90625 0 \nL 45.90625 32.71875 \nQ 45.90625 40.484375 42.875 44.328125 \nQ 39.84375 48.1875 33.796875 48.1875 \nQ 26.515625 48.1875 22.3125 43.546875 \nQ 18.109375 38.921875 18.109375 30.90625 \nL 18.109375 0 \nL 9.078125 0 \nL 9.078125 54.6875 \nL 18.109375 54.6875 \nL 18.109375 46.1875 \nQ 21.34375 51.125 25.703125 53.5625 \nQ 30.078125 56 35.796875 56 \nQ 45.21875 56 50.046875 50.171875 \nQ 54.890625 44.34375 54.890625 33.015625 \nz\n\" id=\"DejaVuSans-110\"/>\n      <path id=\"DejaVuSans-32\"/>\n      <path d=\"M 9.421875 75.984375 \nL 18.40625 75.984375 \nL 18.40625 0 \nL 9.421875 0 \nz\n\" id=\"DejaVuSans-108\"/>\n      <path d=\"M 44.28125 53.078125 \nL 44.28125 44.578125 \nQ 40.484375 46.53125 36.375 47.5 \nQ 32.28125 48.484375 27.875 48.484375 \nQ 21.1875 48.484375 17.84375 46.4375 \nQ 14.5 44.390625 14.5 40.28125 \nQ 14.5 37.15625 16.890625 35.375 \nQ 19.28125 33.59375 26.515625 31.984375 \nL 29.59375 31.296875 \nQ 39.15625 29.25 43.1875 25.515625 \nQ 47.21875 21.78125 47.21875 15.09375 \nQ 47.21875 7.46875 41.1875 3.015625 \nQ 35.15625 -1.421875 24.609375 -1.421875 \nQ 20.21875 -1.421875 15.453125 -0.5625 \nQ 10.6875 0.296875 5.421875 2 \nL 5.421875 11.28125 \nQ 10.40625 8.6875 15.234375 7.390625 \nQ 20.0625 6.109375 24.8125 6.109375 \nQ 31.15625 6.109375 34.5625 8.28125 \nQ 37.984375 10.453125 37.984375 14.40625 \nQ 37.984375 18.0625 35.515625 20.015625 \nQ 33.0625 21.96875 24.703125 23.78125 \nL 21.578125 24.515625 \nQ 13.234375 26.265625 9.515625 29.90625 \nQ 5.8125 33.546875 5.8125 39.890625 \nQ 5.8125 47.609375 11.28125 51.796875 \nQ 16.75 56 26.8125 56 \nQ 31.78125 56 36.171875 55.265625 \nQ 40.578125 54.546875 44.28125 53.078125 \nz\n\" id=\"DejaVuSans-115\"/>\n     </defs>\n     <g transform=\"translate(67.103125 106.463281)scale(0.1 -0.1)\">\n      <use xlink:href=\"#DejaVuSans-116\"/>\n      <use x=\"39.208984\" xlink:href=\"#DejaVuSans-114\"/>\n      <use x=\"80.322266\" xlink:href=\"#DejaVuSans-97\"/>\n      <use x=\"141.601562\" xlink:href=\"#DejaVuSans-105\"/>\n      <use x=\"169.384766\" xlink:href=\"#DejaVuSans-110\"/>\n      <use x=\"232.763672\" xlink:href=\"#DejaVuSans-32\"/>\n      <use x=\"264.550781\" xlink:href=\"#DejaVuSans-108\"/>\n      <use x=\"292.333984\" xlink:href=\"#DejaVuSans-111\"/>\n      <use x=\"353.515625\" xlink:href=\"#DejaVuSans-115\"/>\n      <use x=\"405.615234\" xlink:href=\"#DejaVuSans-115\"/>\n     </g>\n    </g>\n    <g id=\"line2d_28\">\n     <path d=\"M 39.103125 117.641406 \nL 59.103125 117.641406 \n\" style=\"fill:none;stroke:#bf00bf;stroke-dasharray:5.55,2.4;stroke-dashoffset:0;stroke-width:1.5;\"/>\n    </g>\n    <g id=\"line2d_29\"/>\n    <g id=\"text_14\">\n     <!-- train acc -->\n     <g transform=\"translate(67.103125 121.141406)scale(0.1 -0.1)\">\n      <use xlink:href=\"#DejaVuSans-116\"/>\n      <use x=\"39.208984\" xlink:href=\"#DejaVuSans-114\"/>\n      <use x=\"80.322266\" xlink:href=\"#DejaVuSans-97\"/>\n      <use x=\"141.601562\" xlink:href=\"#DejaVuSans-105\"/>\n      <use x=\"169.384766\" xlink:href=\"#DejaVuSans-110\"/>\n      <use x=\"232.763672\" xlink:href=\"#DejaVuSans-32\"/>\n      <use x=\"264.550781\" xlink:href=\"#DejaVuSans-97\"/>\n      <use x=\"325.830078\" xlink:href=\"#DejaVuSans-99\"/>\n      <use x=\"380.810547\" xlink:href=\"#DejaVuSans-99\"/>\n     </g>\n    </g>\n    <g id=\"line2d_30\">\n     <path d=\"M 39.103125 132.319531 \nL 59.103125 132.319531 \n\" style=\"fill:none;stroke:#008000;stroke-dasharray:9.6,2.4,1.5,2.4;stroke-dashoffset:0;stroke-width:1.5;\"/>\n    </g>\n    <g id=\"line2d_31\"/>\n    <g id=\"text_15\">\n     <!-- test acc -->\n     <g transform=\"translate(67.103125 135.819531)scale(0.1 -0.1)\">\n      <use xlink:href=\"#DejaVuSans-116\"/>\n      <use x=\"39.208984\" xlink:href=\"#DejaVuSans-101\"/>\n      <use x=\"100.732422\" xlink:href=\"#DejaVuSans-115\"/>\n      <use x=\"152.832031\" xlink:href=\"#DejaVuSans-116\"/>\n      <use x=\"192.041016\" xlink:href=\"#DejaVuSans-32\"/>\n      <use x=\"223.828125\" xlink:href=\"#DejaVuSans-97\"/>\n      <use x=\"285.107422\" xlink:href=\"#DejaVuSans-99\"/>\n      <use x=\"340.087891\" xlink:href=\"#DejaVuSans-99\"/>\n     </g>\n    </g>\n   </g>\n  </g>\n </g>\n <defs>\n  <clipPath id=\"p2fc3209dad\">\n   <rect height=\"135.9\" width=\"195.3\" x=\"30.103125\" y=\"10.999219\"/>\n  </clipPath>\n </defs>\n</svg>\n"
          },
          "metadata": {
            "needs_background": "light"
          }
        }
      ]
    },
    {
      "cell_type": "markdown",
      "metadata": {
        "origin_pos": 35,
        "id": "dr38UOV2yQ4d"
      },
      "source": [
        "## [**预测**]\n",
        "\n",
        "在预测时，我们需要将输入图像在各个通道做标准化，并转成卷积神经网络所需要的四维输入格式。\n"
      ]
    },
    {
      "cell_type": "code",
      "metadata": {
        "origin_pos": 37,
        "tab": [
          "pytorch"
        ],
        "id": "J8jFecQhyQ4d"
      },
      "source": [
        "def predict(img):\n",
        "    X = test_iter.dataset.normalize_image(img).unsqueeze(0)\n",
        "    pred = net(X.to(devices[0])).argmax(dim=1)\n",
        "    return pred.reshape(pred.shape[1], pred.shape[2])"
      ],
      "execution_count": 14,
      "outputs": []
    },
    {
      "cell_type": "markdown",
      "metadata": {
        "origin_pos": 38,
        "id": "Y0c5xbIsyQ4g"
      },
      "source": [
        "为了[**可视化预测的类别**]给每个像素，我们将预测类别映射回它们在数据集中的标注颜色。\n"
      ]
    },
    {
      "cell_type": "code",
      "metadata": {
        "origin_pos": 40,
        "tab": [
          "pytorch"
        ],
        "id": "dVmk9Si7yQ4g"
      },
      "source": [
        "def label2image(pred):\n",
        "    colormap = torch.tensor(d2l.VOC_COLORMAP, device=devices[0])\n",
        "    X = pred.long()\n",
        "    return colormap[X, :]"
      ],
      "execution_count": 15,
      "outputs": []
    },
    {
      "cell_type": "markdown",
      "metadata": {
        "origin_pos": 41,
        "id": "x-sErpd4yQ4g"
      },
      "source": [
        "测试数据集中的图像大小和形状各异。\n",
        "由于模型使用了步幅为32的转置卷积层，因此当输入图像的高或宽无法被32整除时，转置卷积层输出的高或宽会与输入图像的尺寸有偏差。\n",
        "为了解决这个问题，我们可以在图像中截取多块高和宽为32的整数倍的矩形区域，并分别对这些区域中的像素做前向计算。\n",
        "请注意，这些区域的并集需要完整覆盖输入图像。\n",
        "当一个像素被多个区域所覆盖时，它在不同区域前向计算中转置卷积层输出的平均值可以作为`softmax`运算的输入，从而预测类别。\n",
        "\n",
        "为简单起见，我们只读取几张较大的测试图像，并从图像的左上角开始截取形状为$320\\times480$的区域用于预测。\n",
        "对于这些测试图像，我们逐一打印它们截取的区域，再打印预测结果，最后打印标注的类别。\n"
      ]
    },
    {
      "cell_type": "code",
      "metadata": {
        "origin_pos": 43,
        "tab": [
          "pytorch"
        ],
        "id": "9lMpnGLYyQ4h",
        "outputId": "9b9dd18a-7865-43dd-8b53-bd0ba5970feb",
        "colab": {
          "base_uri": "https://localhost:8080/",
          "height": 438
        }
      },
      "source": [
        "voc_dir = d2l.download_extract('voc2012', 'VOCdevkit/VOC2012')\n",
        "test_images, test_labels = d2l.read_voc_images(voc_dir, False)\n",
        "n, imgs = 4, []\n",
        "for i in range(n):\n",
        "    crop_rect = (0, 0, 320, 480)\n",
        "    X = torchvision.transforms.functional.crop(test_images[i], *crop_rect)\n",
        "    pred = label2image(predict(X))\n",
        "    imgs += [X.permute(1,2,0), pred.cpu(),\n",
        "             torchvision.transforms.functional.crop(\n",
        "                 test_labels[i], *crop_rect).permute(1,2,0)]\n",
        "d2l.show_images(imgs[::3] + imgs[1::3] + imgs[2::3], 3, n, scale=2);"
      ],
      "execution_count": 16,
      "outputs": [
        {
          "output_type": "display_data",
          "data": {
            "text/plain": [
              "<Figure size 576x432 with 12 Axes>"
            ],
            "image/svg+xml": "<?xml version=\"1.0\" encoding=\"utf-8\" standalone=\"no\"?>\n<!DOCTYPE svg PUBLIC \"-//W3C//DTD SVG 1.1//EN\"\n  \"http://www.w3.org/Graphics/SVG/1.1/DTD/svg11.dtd\">\n<!-- Created with matplotlib (https://matplotlib.org/) -->\n<svg height=\"312.82624pt\" version=\"1.1\" viewBox=\"0 0 464.3 312.82624\" width=\"464.3pt\" xmlns=\"http://www.w3.org/2000/svg\" xmlns:xlink=\"http://www.w3.org/1999/xlink\">\n <defs>\n  <style type=\"text/css\">\n*{stroke-linecap:butt;stroke-linejoin:round;}\n  </style>\n </defs>\n <g id=\"figure_1\">\n  <g id=\"patch_1\">\n   <path d=\"M 0 312.82624 \nL 464.3 312.82624 \nL 464.3 0 \nL 0 0 \nz\n\" style=\"fill:none;\"/>\n  </g>\n  <g id=\"axes_1\">\n   <g id=\"patch_2\">\n    <path d=\"M 10.7 71.895652 \nL 107.743478 71.895652 \nL 107.743478 7.2 \nL 10.7 7.2 \nz\n\" style=\"fill:#ffffff;\"/>\n   </g>\n   <g clip-path=\"url(#p7185523cac)\">\n    <image height=\"65\" id=\"image56c50aa511\" transform=\"scale(1 -1)translate(0 -65)\" width=\"98\" x=\"10.7\" xlink:href=\"data:image/png;base64,\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\" y=\"-6.895652\"/>\n   </g>\n   <g id=\"patch_3\">\n    <path d=\"M 10.7 71.895652 \nL 10.7 7.2 \n\" style=\"fill:none;stroke:#000000;stroke-linecap:square;stroke-linejoin:miter;stroke-width:0.8;\"/>\n   </g>\n   <g id=\"patch_4\">\n    <path d=\"M 107.743478 71.895652 \nL 107.743478 7.2 \n\" style=\"fill:none;stroke:#000000;stroke-linecap:square;stroke-linejoin:miter;stroke-width:0.8;\"/>\n   </g>\n   <g id=\"patch_5\">\n    <path d=\"M 10.7 71.895652 \nL 107.743478 71.895652 \n\" style=\"fill:none;stroke:#000000;stroke-linecap:square;stroke-linejoin:miter;stroke-width:0.8;\"/>\n   </g>\n   <g id=\"patch_6\">\n    <path d=\"M 10.7 7.2 \nL 107.743478 7.2 \n\" style=\"fill:none;stroke:#000000;stroke-linecap:square;stroke-linejoin:miter;stroke-width:0.8;\"/>\n   </g>\n  </g>\n  <g id=\"axes_2\">\n   <g id=\"patch_7\">\n    <path d=\"M 127.152174 71.895652 \nL 224.195652 71.895652 \nL 224.195652 7.2 \nL 127.152174 7.2 \nz\n\" style=\"fill:#ffffff;\"/>\n   </g>\n   <g clip-path=\"url(#p004c634e36)\">\n    <image height=\"65\" id=\"image60601cf016\" transform=\"scale(1 -1)translate(0 -65)\" width=\"98\" x=\"127.152174\" xlink:href=\"data:image/png;base64,\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\" y=\"-6.895652\"/>\n   </g>\n   <g id=\"patch_8\">\n    <path d=\"M 127.152174 71.895652 \nL 127.152174 7.2 \n\" style=\"fill:none;stroke:#000000;stroke-linecap:square;stroke-linejoin:miter;stroke-width:0.8;\"/>\n   </g>\n   <g id=\"patch_9\">\n    <path d=\"M 224.195652 71.895652 \nL 224.195652 7.2 \n\" style=\"fill:none;stroke:#000000;stroke-linecap:square;stroke-linejoin:miter;stroke-width:0.8;\"/>\n   </g>\n   <g id=\"patch_10\">\n    <path d=\"M 127.152174 71.895652 \nL 224.195652 71.895652 \n\" style=\"fill:none;stroke:#000000;stroke-linecap:square;stroke-linejoin:miter;stroke-width:0.8;\"/>\n   </g>\n   <g id=\"patch_11\">\n    <path d=\"M 127.152174 7.2 \nL 224.195652 7.2 \n\" style=\"fill:none;stroke:#000000;stroke-linecap:square;stroke-linejoin:miter;stroke-width:0.8;\"/>\n   </g>\n  </g>\n  <g id=\"axes_3\">\n   <g id=\"patch_12\">\n    <path d=\"M 243.604348 71.895652 \nL 340.647826 71.895652 \nL 340.647826 7.2 \nL 243.604348 7.2 \nz\n\" style=\"fill:#ffffff;\"/>\n   </g>\n   <g clip-path=\"url(#padb9a7b1e0)\">\n    <image height=\"65\" id=\"image7593747932\" transform=\"scale(1 -1)translate(0 -65)\" width=\"98\" x=\"243.604348\" xlink:href=\"data:image/png;base64,\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\" y=\"-6.895652\"/>\n   </g>\n   <g id=\"patch_13\">\n    <path d=\"M 243.604348 71.895652 \nL 243.604348 7.2 \n\" style=\"fill:none;stroke:#000000;stroke-linecap:square;stroke-linejoin:miter;stroke-width:0.8;\"/>\n   </g>\n   <g id=\"patch_14\">\n    <path d=\"M 340.647826 71.895652 \nL 340.647826 7.2 \n\" style=\"fill:none;stroke:#000000;stroke-linecap:square;stroke-linejoin:miter;stroke-width:0.8;\"/>\n   </g>\n   <g id=\"patch_15\">\n    <path d=\"M 243.604348 71.895652 \nL 340.647826 71.895652 \n\" style=\"fill:none;stroke:#000000;stroke-linecap:square;stroke-linejoin:miter;stroke-width:0.8;\"/>\n   </g>\n   <g id=\"patch_16\">\n    <path d=\"M 243.604348 7.2 \nL 340.647826 7.2 \n\" style=\"fill:none;stroke:#000000;stroke-linecap:square;stroke-linejoin:miter;stroke-width:0.8;\"/>\n   </g>\n  </g>\n  <g id=\"axes_4\">\n   <g id=\"patch_17\">\n    <path d=\"M 360.056522 71.895652 \nL 457.1 71.895652 \nL 457.1 7.2 \nL 360.056522 7.2 \nz\n\" style=\"fill:#ffffff;\"/>\n   </g>\n   <g clip-path=\"url(#p241d33f2b2)\">\n    <image height=\"65\" id=\"image129fde22a1\" transform=\"scale(1 -1)translate(0 -65)\" width=\"98\" x=\"360.056522\" xlink:href=\"data:image/png;base64,\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\" y=\"-6.895652\"/>\n   </g>\n   <g id=\"patch_18\">\n    <path d=\"M 360.056522 71.895652 \nL 360.056522 7.2 \n\" style=\"fill:none;stroke:#000000;stroke-linecap:square;stroke-linejoin:miter;stroke-width:0.8;\"/>\n   </g>\n   <g id=\"patch_19\">\n    <path d=\"M 457.1 71.895652 \nL 457.1 7.2 \n\" style=\"fill:none;stroke:#000000;stroke-linecap:square;stroke-linejoin:miter;stroke-width:0.8;\"/>\n   </g>\n   <g id=\"patch_20\">\n    <path d=\"M 360.056522 71.895652 \nL 457.1 71.895652 \n\" style=\"fill:none;stroke:#000000;stroke-linecap:square;stroke-linejoin:miter;stroke-width:0.8;\"/>\n   </g>\n   <g id=\"patch_21\">\n    <path d=\"M 360.056522 7.2 \nL 457.1 7.2 \n\" style=\"fill:none;stroke:#000000;stroke-linecap:square;stroke-linejoin:miter;stroke-width:0.8;\"/>\n   </g>\n  </g>\n  <g id=\"axes_5\">\n   <g id=\"patch_22\">\n    <path d=\"M 10.7 187.010946 \nL 107.743478 187.010946 \nL 107.743478 122.315294 \nL 10.7 122.315294 \nz\n\" style=\"fill:#ffffff;\"/>\n   </g>\n   <g clip-path=\"url(#p184a251f69)\">\n    <image height=\"65\" id=\"image44173dab02\" transform=\"scale(1 -1)translate(0 -65)\" width=\"98\" x=\"10.7\" xlink:href=\"data:image/png;base64,\niVBORw0KGgoAAAANSUhEUgAAAGIAAABBCAYAAAAqnXGWAAAABHNCSVQICAgIfAhkiAAAAzpJREFUeJzt2stuI1UQgOHPTkgYbsMlXCQQGxYwguGyAokFQkgseA5eEPEOLAEJAYKBCWRuMAxhhrklgaRZVDf2hCiE2KHLdv1Sy+1E3S7373NOdVUP0Ch6Z9h3AEVQIpJQIpJQIpJQIpJQIpJQIpJQIpJQIpJQIpJQIpJQIpJQIpJQIpJQIpKwPMnBp/EsBmN/u4m7Y/tbk3zAAnEsEQ/iFbyFR/f9b6/dGtzCFWzgIn7FtlEnaohT7TmewvNYwSZu40Z7jru4077Oaxdr4IjfbSgu1lm8LEbD4NAjRjTYxe/4CdfwOB7BY0LG0lhA3THa4/aEiPP4WkjtRt288K8ilnEGb4hpaMXRBUybRki5gUv4Fhfa97M+Ug4V8QTew4tGv9gsNO22hXP4XEj5s8+gJuBAEQMxCt7336agvmiEgCv4At+IRGGWRsk/RCzhHbEQr/QR0YQ0YqHfwI/4BTsiUci8rtwjYoC38a58U9Fx6KavPZF9/YCvsI4/+gvrQAZDmmXx638BH2C135hOlF0xWj7C9Z5jGWfwIc0qHhAy7us5oP+DBp/hY3nWkeFzeFLcpC2CBEbJyNN9BzLGwtaa7serfQcxxsKK6EbFqb4DaZmo6DerdCWXDXnWiIUR0aWyd4SAT0Xtaq/PoMaYaxGNuF/YFPcQ58Xd9y15RkLH3Ijobty2RRHwsrjoXfk92w3cfmZWRDfV/CYqsZfxs1EvY9aKfzMloptObhv1JtbNRxdw+RORw66JRs2aXDnteK3oGr7E96LJlG2en4S/i34DUWN6HW+K9mUf5e/u4m7jqvjFr7f7W/JkOdPmwH7EQ0LIWVH+OOkRMp5aXhCNng0x/++e8Gdn4dAO3SpewmuiLrMqyuPTGCldanld9A2+E1nOrDV0psWRHh5YEqWA06J9uoZn2v2uWDgY2/bTzfM7ojmzKS7+uXZ/Z8IvMQ8c+SmOgw5cEeXzh40W/O51pT3xVZHX3xQL7LZ7H6kpgmOLKKZLpkx1oSkRSSgRSSgRSSgRSSgRSSgRSSgRSSgRSSgRSSgRSSgRSSgRSSgRSSgRSSgRSSgRSSgRSSgRSSgRSSgRSSgRSSgRSfgLHiC7P0a0ojcAAAAASUVORK5CYII=\" y=\"-122.010946\"/>\n   </g>\n   <g id=\"patch_23\">\n    <path d=\"M 10.7 187.010946 \nL 10.7 122.315294 \n\" style=\"fill:none;stroke:#000000;stroke-linecap:square;stroke-linejoin:miter;stroke-width:0.8;\"/>\n   </g>\n   <g id=\"patch_24\">\n    <path d=\"M 107.743478 187.010946 \nL 107.743478 122.315294 \n\" style=\"fill:none;stroke:#000000;stroke-linecap:square;stroke-linejoin:miter;stroke-width:0.8;\"/>\n   </g>\n   <g id=\"patch_25\">\n    <path d=\"M 10.7 187.010946 \nL 107.743478 187.010946 \n\" style=\"fill:none;stroke:#000000;stroke-linecap:square;stroke-linejoin:miter;stroke-width:0.8;\"/>\n   </g>\n   <g id=\"patch_26\">\n    <path d=\"M 10.7 122.315294 \nL 107.743478 122.315294 \n\" style=\"fill:none;stroke:#000000;stroke-linecap:square;stroke-linejoin:miter;stroke-width:0.8;\"/>\n   </g>\n  </g>\n  <g id=\"axes_6\">\n   <g id=\"patch_27\">\n    <path d=\"M 127.152174 187.010946 \nL 224.195652 187.010946 \nL 224.195652 122.315294 \nL 127.152174 122.315294 \nz\n\" style=\"fill:#ffffff;\"/>\n   </g>\n   <g clip-path=\"url(#p8a1aef0563)\">\n    <image height=\"65\" id=\"imaged0094b84f8\" transform=\"scale(1 -1)translate(0 -65)\" width=\"98\" x=\"127.152174\" xlink:href=\"data:image/png;base64,\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\" y=\"-122.010946\"/>\n   </g>\n   <g id=\"patch_28\">\n    <path d=\"M 127.152174 187.010946 \nL 127.152174 122.315294 \n\" style=\"fill:none;stroke:#000000;stroke-linecap:square;stroke-linejoin:miter;stroke-width:0.8;\"/>\n   </g>\n   <g id=\"patch_29\">\n    <path d=\"M 224.195652 187.010946 \nL 224.195652 122.315294 \n\" style=\"fill:none;stroke:#000000;stroke-linecap:square;stroke-linejoin:miter;stroke-width:0.8;\"/>\n   </g>\n   <g id=\"patch_30\">\n    <path d=\"M 127.152174 187.010946 \nL 224.195652 187.010946 \n\" style=\"fill:none;stroke:#000000;stroke-linecap:square;stroke-linejoin:miter;stroke-width:0.8;\"/>\n   </g>\n   <g id=\"patch_31\">\n    <path d=\"M 127.152174 122.315294 \nL 224.195652 122.315294 \n\" style=\"fill:none;stroke:#000000;stroke-linecap:square;stroke-linejoin:miter;stroke-width:0.8;\"/>\n   </g>\n  </g>\n  <g id=\"axes_7\">\n   <g id=\"patch_32\">\n    <path d=\"M 243.604348 187.010946 \nL 340.647826 187.010946 \nL 340.647826 122.315294 \nL 243.604348 122.315294 \nz\n\" style=\"fill:#ffffff;\"/>\n   </g>\n   <g clip-path=\"url(#p109b5f3576)\">\n    <image height=\"65\" id=\"image878fbb0c09\" transform=\"scale(1 -1)translate(0 -65)\" width=\"98\" x=\"243.604348\" xlink:href=\"data:image/png;base64,\niVBORw0KGgoAAAANSUhEUgAAAGIAAABBCAYAAAAqnXGWAAAABHNCSVQICAgIfAhkiAAAAlBJREFUeJzt2MtvTGEYwOHndEbrEhWl2BBiibAiFiys+Df9BzbsJDYSG4mwsBJxWYggSCi9jMXb0YuRtDPTznt4n6SZZNI5853vdzLfd06DnjJxU5MeQAkVIokKkUSFSKJCJFEhkqgQf5gyiWnp7vo3ptFgGgdxGPM4hlkxLV8HfGYZb/ASn7A41tG0/IauIyZwZt17e8XkDnIIB1b//4gI0RVT0Wzh+3oiwAe8wmO8G2bgG7Q8xDRu4oII0tdset0pPXzEbXwe6UgtXiOmcQuXsMfab/uUrV/do2owhysjH6mlIaZwDRdN/hQanBUXw/AmfRZDOo+r8gx/Vqw7w8tyJtswjxtybfj6C//wWhaig+ti55NJg+MjHaFlIfrDXZnoKAb7MdKnWxZiEXdwF1/k2Hn38BbPRzpKi+8j5sTO6ZzYsezGdnWzZTzFfXFhDK/FIYjhn8FpsYh3xA5met1fY+PCPo5gPTHxD/BEBBlNy0MM0hW/uDMiREc87uiKWP3Xo6vvb/fmbwUvcE885hiPfzDEVu0XN2KXccLa86a/6WEBD/EIP8c6mv84RF8XJ0WQU9gnrvolsRP6hu94j2d4vSOjqBC/NeJJ7LyY+AURYUmsATs7TRUiiZbdR/y7KkQSFSKJCpFEhUiiQiRRIZKoEElUiCQqRBIVIokKkUSFSKJCJFEhkqgQSVSIJCpEEhUiiQqRRIVIokIkUSGSqBBJVIgkKkQSFSKJCpFEhUiiQiRRIZKoEElUiCQqRBIVIokKkUSFSKJCJFEhkqgQSfwCeb1GSTFBJ3EAAAAASUVORK5CYII=\" y=\"-122.010946\"/>\n   </g>\n   <g id=\"patch_33\">\n    <path d=\"M 243.604348 187.010946 \nL 243.604348 122.315294 \n\" style=\"fill:none;stroke:#000000;stroke-linecap:square;stroke-linejoin:miter;stroke-width:0.8;\"/>\n   </g>\n   <g id=\"patch_34\">\n    <path d=\"M 340.647826 187.010946 \nL 340.647826 122.315294 \n\" style=\"fill:none;stroke:#000000;stroke-linecap:square;stroke-linejoin:miter;stroke-width:0.8;\"/>\n   </g>\n   <g id=\"patch_35\">\n    <path d=\"M 243.604348 187.010946 \nL 340.647826 187.010946 \n\" style=\"fill:none;stroke:#000000;stroke-linecap:square;stroke-linejoin:miter;stroke-width:0.8;\"/>\n   </g>\n   <g id=\"patch_36\">\n    <path d=\"M 243.604348 122.315294 \nL 340.647826 122.315294 \n\" style=\"fill:none;stroke:#000000;stroke-linecap:square;stroke-linejoin:miter;stroke-width:0.8;\"/>\n   </g>\n  </g>\n  <g id=\"axes_8\">\n   <g id=\"patch_37\">\n    <path d=\"M 360.056522 187.010946 \nL 457.1 187.010946 \nL 457.1 122.315294 \nL 360.056522 122.315294 \nz\n\" style=\"fill:#ffffff;\"/>\n   </g>\n   <g clip-path=\"url(#p0b988923a7)\">\n    <image height=\"65\" id=\"image889d0ca285\" transform=\"scale(1 -1)translate(0 -65)\" width=\"98\" x=\"360.056522\" xlink:href=\"data:image/png;base64,\niVBORw0KGgoAAAANSUhEUgAAAGIAAABBCAYAAAAqnXGWAAAABHNCSVQICAgIfAhkiAAABKZJREFUeJztm0tsVFUYgL97pzOllL5oKaVCrRhaFFtjEOpEfKCgYWFEJCY1cePGlXHjwgUx7ti6Mpq4MCFGohtjiKRplGhCqA+08rDQEpG2FGittIW+Zu7McfEz2hBp70zvvefM5X6bWfWev/PN+f/z+K8FKCK0Y+sOIEKIRBhCJMIQIhGGEIkwhEiEIZQEPmACymvAsmB+BtLzoDKQcYKOxCwCE1HdAA88AQ8+DXVNYNkwdxNSszA/DVOj4KThch8M/w5jlyA9F1R0+rHwcUNXkoD6jdD2LDz0DKxaLTNhMZQCJwXXR+DyORjogQs/irAw47kIy17w638K6u+D+IqlBdyJbAZ+PQpfvx/u9OVZakqUQVMbtD8H9z8KK6sK//IXYsfg4edldvxyZPnPM5Vli6iog/bdknrqmyEW9yCq2yiJw/a9cOZbSM14/3wTKFhEogy2vgAd+6BqrTe//sVY0wybOuDsMX/H0UVBIqrWwp43oSUpqSMIYiXw2H4p3mEs3Hlv6NZvgVcPQuvjwUnI0dgq8sNIXiJqN8DLB2Ql5Hcq+j/sGDz5miwEwoZrEZYl9aC6QY+EXAxr7oW2XXrG9xPXIuqaZGWkS0IOy4ZtL0J5td44vMadCAu27YWySp+jcUnt+vDVClciKmqlOOueDf9iycYxFviRpX+4ErFxK1TW+R2KeywL1rXA6nt0R+IdS4qwbNi8Qz5NonQlND+iOwrvWPrrVRjZcKOyMHFVdxTesaQIpWB8OIhQ8mPiqtxbhAVXCWfskggxBaWgtwtmp3RH4h2uRIwPmXUXMHkNeo/qjsJbXImYHJXrTBNQWTh5BKbGdEfiLa5EzN4w4x9XCob74OevdEfiPa5EOCn4s1d/nUjNQtcH4aoNOdztDhSc+EJqhS4ZSsGpbhg5p2d8v3G9TZsahe4P9VzKKCVdHcc/k2aCMJLXfrm/B74/JKkqSDJpSUlh2sDdTl7HZioLJz6XFdTO173r1Fh0TAUDP0hvU5gpuK+pcTPsfkNaaOyYf0ImR+HQ2/DXoD/PN4VlNZglyuReIPkKNLZ4fzDopOHLg9JGE3ZiwHuF/nHGgdGL0Pcd2HFpeYnFvZsdI+fhm48ha9Cu3i+WJSKHk4I/TsLQaWkwWFUL9jJnh8rC8cPyzLsBz3tfc+mqYx80bJJG5HxniFJysvrpOzB3w8vozMW3bvB4qXSCtySlIbl2g/urzekJOHwAhs74EZmZ+NqWn6O0XK5bd3TCutY7py2lYPo6dH8Ev3X5HZVZBCIix4oKaSbe/tJ/zcrpOZiZlLeHxofleHvQg7pQ0wjtu+DCT9JJbuIt40ICFQFSL8prwL6VppyUbBCV8nZ1tP9d2LJTVl6fvCWviJlM4A0pSsHNv/0fZ/ZWkT97zHwJEOK3SkfOyzt6/T26I3FHaEUMnoIr/TBxRXck7gitiIlrsvIK+qS4UAIv1kFi2bJDLwZCLaKYCG1qKjYiEYYQiTCESIQhFI+IuA9v0htEcYiorITOTkgmIZHQHY0vFIcI24aBAXCc0IqI9hGGUBwz4i4gEmEIkQhDiEQYQiTCECIRhhCJMIRIhCH8A0uHOvhW7BUHAAAAAElFTkSuQmCC\" y=\"-122.010946\"/>\n   </g>\n   <g id=\"patch_38\">\n    <path d=\"M 360.056522 187.010946 \nL 360.056522 122.315294 \n\" style=\"fill:none;stroke:#000000;stroke-linecap:square;stroke-linejoin:miter;stroke-width:0.8;\"/>\n   </g>\n   <g id=\"patch_39\">\n    <path d=\"M 457.1 187.010946 \nL 457.1 122.315294 \n\" style=\"fill:none;stroke:#000000;stroke-linecap:square;stroke-linejoin:miter;stroke-width:0.8;\"/>\n   </g>\n   <g id=\"patch_40\">\n    <path d=\"M 360.056522 187.010946 \nL 457.1 187.010946 \n\" style=\"fill:none;stroke:#000000;stroke-linecap:square;stroke-linejoin:miter;stroke-width:0.8;\"/>\n   </g>\n   <g id=\"patch_41\">\n    <path d=\"M 360.056522 122.315294 \nL 457.1 122.315294 \n\" style=\"fill:none;stroke:#000000;stroke-linecap:square;stroke-linejoin:miter;stroke-width:0.8;\"/>\n   </g>\n  </g>\n  <g id=\"axes_9\">\n   <g id=\"patch_42\">\n    <path d=\"M 10.7 302.12624 \nL 107.743478 302.12624 \nL 107.743478 237.430588 \nL 10.7 237.430588 \nz\n\" style=\"fill:#ffffff;\"/>\n   </g>\n   <g clip-path=\"url(#pd3729fc422)\">\n    <image height=\"65\" id=\"image6793411e75\" transform=\"scale(1 -1)translate(0 -65)\" width=\"98\" x=\"10.7\" xlink:href=\"data:image/png;base64,\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\" y=\"-237.12624\"/>\n   </g>\n   <g id=\"patch_43\">\n    <path d=\"M 10.7 302.12624 \nL 10.7 237.430588 \n\" style=\"fill:none;stroke:#000000;stroke-linecap:square;stroke-linejoin:miter;stroke-width:0.8;\"/>\n   </g>\n   <g id=\"patch_44\">\n    <path d=\"M 107.743478 302.12624 \nL 107.743478 237.430588 \n\" style=\"fill:none;stroke:#000000;stroke-linecap:square;stroke-linejoin:miter;stroke-width:0.8;\"/>\n   </g>\n   <g id=\"patch_45\">\n    <path d=\"M 10.7 302.12624 \nL 107.743478 302.12624 \n\" style=\"fill:none;stroke:#000000;stroke-linecap:square;stroke-linejoin:miter;stroke-width:0.8;\"/>\n   </g>\n   <g id=\"patch_46\">\n    <path d=\"M 10.7 237.430588 \nL 107.743478 237.430588 \n\" style=\"fill:none;stroke:#000000;stroke-linecap:square;stroke-linejoin:miter;stroke-width:0.8;\"/>\n   </g>\n  </g>\n  <g id=\"axes_10\">\n   <g id=\"patch_47\">\n    <path d=\"M 127.152174 302.12624 \nL 224.195652 302.12624 \nL 224.195652 237.430588 \nL 127.152174 237.430588 \nz\n\" style=\"fill:#ffffff;\"/>\n   </g>\n   <g clip-path=\"url(#p509d8d9f4c)\">\n    <image height=\"65\" id=\"image65cc3c205e\" transform=\"scale(1 -1)translate(0 -65)\" width=\"98\" x=\"127.152174\" xlink:href=\"data:image/png;base64,\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\" y=\"-237.12624\"/>\n   </g>\n   <g id=\"patch_48\">\n    <path d=\"M 127.152174 302.12624 \nL 127.152174 237.430588 \n\" style=\"fill:none;stroke:#000000;stroke-linecap:square;stroke-linejoin:miter;stroke-width:0.8;\"/>\n   </g>\n   <g id=\"patch_49\">\n    <path d=\"M 224.195652 302.12624 \nL 224.195652 237.430588 \n\" style=\"fill:none;stroke:#000000;stroke-linecap:square;stroke-linejoin:miter;stroke-width:0.8;\"/>\n   </g>\n   <g id=\"patch_50\">\n    <path d=\"M 127.152174 302.12624 \nL 224.195652 302.12624 \n\" style=\"fill:none;stroke:#000000;stroke-linecap:square;stroke-linejoin:miter;stroke-width:0.8;\"/>\n   </g>\n   <g id=\"patch_51\">\n    <path d=\"M 127.152174 237.430588 \nL 224.195652 237.430588 \n\" style=\"fill:none;stroke:#000000;stroke-linecap:square;stroke-linejoin:miter;stroke-width:0.8;\"/>\n   </g>\n  </g>\n  <g id=\"axes_11\">\n   <g id=\"patch_52\">\n    <path d=\"M 243.604348 302.12624 \nL 340.647826 302.12624 \nL 340.647826 237.430588 \nL 243.604348 237.430588 \nz\n\" style=\"fill:#ffffff;\"/>\n   </g>\n   <g clip-path=\"url(#p169f7c8289)\">\n    <image height=\"65\" id=\"image2bbfc26598\" transform=\"scale(1 -1)translate(0 -65)\" width=\"98\" x=\"243.604348\" xlink:href=\"data:image/png;base64,\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\" y=\"-237.12624\"/>\n   </g>\n   <g id=\"patch_53\">\n    <path d=\"M 243.604348 302.12624 \nL 243.604348 237.430588 \n\" style=\"fill:none;stroke:#000000;stroke-linecap:square;stroke-linejoin:miter;stroke-width:0.8;\"/>\n   </g>\n   <g id=\"patch_54\">\n    <path d=\"M 340.647826 302.12624 \nL 340.647826 237.430588 \n\" style=\"fill:none;stroke:#000000;stroke-linecap:square;stroke-linejoin:miter;stroke-width:0.8;\"/>\n   </g>\n   <g id=\"patch_55\">\n    <path d=\"M 243.604348 302.12624 \nL 340.647826 302.12624 \n\" style=\"fill:none;stroke:#000000;stroke-linecap:square;stroke-linejoin:miter;stroke-width:0.8;\"/>\n   </g>\n   <g id=\"patch_56\">\n    <path d=\"M 243.604348 237.430588 \nL 340.647826 237.430588 \n\" style=\"fill:none;stroke:#000000;stroke-linecap:square;stroke-linejoin:miter;stroke-width:0.8;\"/>\n   </g>\n  </g>\n  <g id=\"axes_12\">\n   <g id=\"patch_57\">\n    <path d=\"M 360.056522 302.12624 \nL 457.1 302.12624 \nL 457.1 237.430588 \nL 360.056522 237.430588 \nz\n\" style=\"fill:#ffffff;\"/>\n   </g>\n   <g clip-path=\"url(#p006156a9d3)\">\n    <image height=\"65\" id=\"image7c5dd7519c\" transform=\"scale(1 -1)translate(0 -65)\" width=\"98\" x=\"360.056522\" xlink:href=\"data:image/png;base64,\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\" y=\"-237.12624\"/>\n   </g>\n   <g id=\"patch_58\">\n    <path d=\"M 360.056522 302.12624 \nL 360.056522 237.430588 \n\" style=\"fill:none;stroke:#000000;stroke-linecap:square;stroke-linejoin:miter;stroke-width:0.8;\"/>\n   </g>\n   <g id=\"patch_59\">\n    <path d=\"M 457.1 302.12624 \nL 457.1 237.430588 \n\" style=\"fill:none;stroke:#000000;stroke-linecap:square;stroke-linejoin:miter;stroke-width:0.8;\"/>\n   </g>\n   <g id=\"patch_60\">\n    <path d=\"M 360.056522 302.12624 \nL 457.1 302.12624 \n\" style=\"fill:none;stroke:#000000;stroke-linecap:square;stroke-linejoin:miter;stroke-width:0.8;\"/>\n   </g>\n   <g id=\"patch_61\">\n    <path d=\"M 360.056522 237.430588 \nL 457.1 237.430588 \n\" style=\"fill:none;stroke:#000000;stroke-linecap:square;stroke-linejoin:miter;stroke-width:0.8;\"/>\n   </g>\n  </g>\n </g>\n <defs>\n  <clipPath id=\"p7185523cac\">\n   <rect height=\"64.695652\" width=\"97.043478\" x=\"10.7\" y=\"7.2\"/>\n  </clipPath>\n  <clipPath id=\"p004c634e36\">\n   <rect height=\"64.695652\" width=\"97.043478\" x=\"127.152174\" y=\"7.2\"/>\n  </clipPath>\n  <clipPath id=\"padb9a7b1e0\">\n   <rect height=\"64.695652\" width=\"97.043478\" x=\"243.604348\" y=\"7.2\"/>\n  </clipPath>\n  <clipPath id=\"p241d33f2b2\">\n   <rect height=\"64.695652\" width=\"97.043478\" x=\"360.056522\" y=\"7.2\"/>\n  </clipPath>\n  <clipPath id=\"p184a251f69\">\n   <rect height=\"64.695652\" width=\"97.043478\" x=\"10.7\" y=\"122.315294\"/>\n  </clipPath>\n  <clipPath id=\"p8a1aef0563\">\n   <rect height=\"64.695652\" width=\"97.043478\" x=\"127.152174\" y=\"122.315294\"/>\n  </clipPath>\n  <clipPath id=\"p109b5f3576\">\n   <rect height=\"64.695652\" width=\"97.043478\" x=\"243.604348\" y=\"122.315294\"/>\n  </clipPath>\n  <clipPath id=\"p0b988923a7\">\n   <rect height=\"64.695652\" width=\"97.043478\" x=\"360.056522\" y=\"122.315294\"/>\n  </clipPath>\n  <clipPath id=\"pd3729fc422\">\n   <rect height=\"64.695652\" width=\"97.043478\" x=\"10.7\" y=\"237.430588\"/>\n  </clipPath>\n  <clipPath id=\"p509d8d9f4c\">\n   <rect height=\"64.695652\" width=\"97.043478\" x=\"127.152174\" y=\"237.430588\"/>\n  </clipPath>\n  <clipPath id=\"p169f7c8289\">\n   <rect height=\"64.695652\" width=\"97.043478\" x=\"243.604348\" y=\"237.430588\"/>\n  </clipPath>\n  <clipPath id=\"p006156a9d3\">\n   <rect height=\"64.695652\" width=\"97.043478\" x=\"360.056522\" y=\"237.430588\"/>\n  </clipPath>\n </defs>\n</svg>\n"
          },
          "metadata": {
            "needs_background": "light"
          }
        }
      ]
    },
    {
      "cell_type": "markdown",
      "metadata": {
        "origin_pos": 44,
        "id": "G4_-EjHeyQ4i"
      },
      "source": [
        "## 小结\n",
        "\n",
        "* 全卷积网络先使用卷积神经网络抽取图像特征，然后通过$1\\times 1$卷积层将通道数变换为类别个数，最后通过转置卷积层将特征图的高和宽变换为输入图像的尺寸。\n",
        "* 在全卷积网络中，我们可以将转置卷积层初始化为双线性插值的上采样。\n",
        "\n",
        "## 练习\n",
        "\n",
        "1. 如果将转置卷积层改用Xavier随机初始化，结果有什么变化？\n",
        "1. 调节超参数，能进一步提升模型的精度吗？\n",
        "1. 预测测试图像中所有像素的类别。\n",
        "1. 最初的全卷积网络的论文中 :cite:`Long.Shelhamer.Darrell.2015` 还使用了卷积神经网络的某些中间层的输出。试着实现这个想法。\n"
      ]
    },
    {
      "cell_type": "markdown",
      "metadata": {
        "origin_pos": 46,
        "tab": [
          "pytorch"
        ],
        "id": "I4zSGO4-yQ4i"
      },
      "source": [
        "[Discussions](https://discuss.d2l.ai/t/3297)\n"
      ]
    }
  ]
}